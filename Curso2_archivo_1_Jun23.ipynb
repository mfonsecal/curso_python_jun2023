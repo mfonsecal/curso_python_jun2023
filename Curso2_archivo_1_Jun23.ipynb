{
  "nbformat": 4,
  "nbformat_minor": 0,
  "metadata": {
    "colab": {
      "provenance": [],
      "mount_file_id": "19vDfn1LvGaCnbhzzj49XnQpCEY49PEsP",
      "authorship_tag": "ABX9TyOf+oJHNK+8TdPJTkuDTo7x",
      "include_colab_link": true
    },
    "kernelspec": {
      "name": "python3",
      "display_name": "Python 3"
    },
    "language_info": {
      "name": "python"
    }
  },
  "cells": [
    {
      "cell_type": "markdown",
      "metadata": {
        "id": "view-in-github",
        "colab_type": "text"
      },
      "source": [
        "<a href=\"https://colab.research.google.com/github/mfonsecal/curso_python_jun2023/blob/master/Curso2_archivo_1_Jun23.ipynb\" target=\"_parent\"><img src=\"https://colab.research.google.com/assets/colab-badge.svg\" alt=\"Open In Colab\"/></a>"
      ]
    },
    {
      "cell_type": "markdown",
      "source": [
        "# Curso intermedio fase 2 12 al 16 junio 2023\n",
        "***texto en negrita***\n",
        "*texto en cursiva*\n",
        "\n",
        "```\n",
        "# Esto tiene formato de código\n",
        "print(\"hola Mundo\")\n",
        "```\n",
        "[Google](https://google.com)\n",
        "---\n",
        "\n",
        "---\n",
        "\n",
        "> Bloc con sangría\n",
        "> línea 2\n",
        "\n",
        "1.   Elemento de la lista\n",
        "1.   Elemento de la lista\n",
        "\n",
        "*   Elemento de la lista\n",
        "*   Elemento de la lista\n",
        "---\n",
        "LaTeX\n",
        "Ecuación Cuadrática:\n",
        "$a x^2 + b x + c = 0$\n",
        "\n",
        "Fórmula Cuadrática:\n",
        "$x = \\frac {-b \\pm \\sqrt {b^2 - 4ac}}{2a}$\n",
        "\n",
        "Formatos de Límites:\n",
        "$\\lim_{x \\to \\infty} \\left( \\frac{1}{x} \\right)$\n",
        "\n",
        "Interés Compuesto:\n",
        "$Monto = Inicial \\cdot \\left( 1 + \\frac {tasa}{períodos} \\right) ^ {tiempo \\cdot períodos}$\n",
        "---\n",
        "\n",
        "| Column 1 | Column 2 | Column 3 |\n",
        "|----------|----------|----------|\n",
        "| Row 1    | Cell 2   | Cell 3   |\n",
        "| Row 2    | Cell 5   | Cell 6   |\n",
        "| Row 3    | Cell 8   | Cell 9   |\n",
        "\n",
        "</br></br>\n",
        "\n",
        "| Left-Aligned  | Center Aligned  | Right Aligned |\n",
        "|:------------- |:---------------:| -------------:|\n",
        "| Row 1         | **Bold**        | Cell 3        |\n",
        "| Row 2         | *Italic*        | Cell 6        |\n",
        "| Row 3         | ~~Strike~~      | Cell 9        |\n",
        "| Row 3         | [Link](dot.com) | Cell 9        |\n",
        "</br></br>\n",
        "Sin encabezado\n",
        "\n",
        "| <!-- -->      | <!-- -->        | <!-- -->      |\n",
        "|:-------------:|:---------------:|:-------------:|\n",
        "| Row 1         | **Bold**        | Cell 3        |\n",
        "| Row 2         | *Italic*        | Cell 6        |\n",
        "| Row 3         | ~~Strike~~      | Cell 9        |\n",
        "\n",
        "</br></br>\n",
        "\n",
        "\n",
        "<table>\n",
        "    <thead>\n",
        "        <tr>\n",
        "            <th>Column 1</th>\n",
        "            <th>Column 2</th>\n",
        "            <th>Column 3</th>\n",
        "        </tr>\n",
        "    </thead>\n",
        "    <tbody>\n",
        "        <tr>\n",
        "            <td rowspan=4 align=\"center\">R1 Text</td>\n",
        "            <td rowspan=2 align=\"center\">R2 Text A</td>\n",
        "            <td align=\"center\">R3 Text A</td>\n",
        "        </tr>\n",
        "        <tr>\n",
        "            <td align=\"center\">R3 Text B</td>\n",
        "        </tr>\n",
        "        <tr>\n",
        "            <td rowspan=2 align=\"center\">R2 Text B</td>\n",
        "            <td align=\"center\">R3 Text C</td>\n",
        "        </tr>\n",
        "        <tr>\n",
        "            <td align=\"center\">R3 Text D</td>\n",
        "        </tr>\n",
        "    </tbody>\n",
        "</table>\n"
      ],
      "metadata": {
        "id": "LbsYNOEyjJER"
      }
    },
    {
      "cell_type": "code",
      "source": [
        "import requests\n",
        "dominio = 'https://smn.conagua.gob.mx'\n",
        "peticion = '/webservices/'\n",
        "endPoint = 'posts'\n",
        "parametros = '?method=3'\n",
        "url = dominio+str(peticion)+str(endPoint)+str(parametros)\n",
        "data = requests.get(url)\n",
        "if data.status_code == 200:\n",
        "  data = data.json()\n",
        "  print(data)\n",
        "  for e in data['data']:\n",
        "    print(e['url'])"
      ],
      "metadata": {
        "id": "C6iKM9doTPAq"
      },
      "execution_count": null,
      "outputs": []
    },
    {
      "cell_type": "code",
      "source": [
        "!pip freeze"
      ],
      "metadata": {
        "id": "6EeKJ9TmbHz7"
      },
      "execution_count": null,
      "outputs": []
    },
    {
      "cell_type": "code",
      "source": [
        "!pip install ipython"
      ],
      "metadata": {
        "id": "DDLmfUzJbC1g"
      },
      "execution_count": null,
      "outputs": []
    },
    {
      "cell_type": "code",
      "source": [
        "\n",
        "from IPython.display import Image\n",
        "# consumo API\n",
        "import requests\n",
        "url = 'https://randomuser.me/api/'\n",
        "response = requests.get(url)\n",
        "if response.status_code == 200:\n",
        "  data = response.json()\n",
        "  print(f\"data obtenida: {data}\")\n",
        "  results = data['results']\n",
        "  for result in results:\n",
        "      for field, value in result.items():\n",
        "        print(f\"{field}:{value}\")\n",
        "      picture_url = result['picture']['large']\n",
        "      display(Image(url=picture_url))\n",
        "      print(\"\\n\")"
      ],
      "metadata": {
        "colab": {
          "base_uri": "https://localhost:8080/",
          "height": 446
        },
        "id": "DylfjGN1YKFS",
        "outputId": "a2c7345f-d0fa-43d4-b1ef-61e0be91b160"
      },
      "execution_count": 22,
      "outputs": [
        {
          "output_type": "stream",
          "name": "stdout",
          "text": [
            "data obtenida: {'results': [{'gender': 'female', 'name': {'title': 'Miss', 'first': 'Maddison', 'last': 'Kelly'}, 'location': {'street': {'number': 1793, 'name': 'Albert Road'}, 'city': 'Maynooth', 'state': 'Leitrim', 'country': 'Ireland', 'postcode': 44497, 'coordinates': {'latitude': '-1.8166', 'longitude': '48.6149'}, 'timezone': {'offset': '+3:00', 'description': 'Baghdad, Riyadh, Moscow, St. Petersburg'}}, 'email': 'maddison.kelly@example.com', 'login': {'uuid': 'a70820a8-6a16-4512-b910-b794bee17ba3', 'username': 'angrypeacock506', 'password': 'acura', 'salt': 'Ofyvhl0J', 'md5': '27defee03036e6ff31494f7a10f106a8', 'sha1': '91a6a05209f68024dc6653c5d9ab825ff57f8666', 'sha256': 'ebfc84c2c69531a03f07e0f1a0c81cf8c6dec988798f82dc3b77ab405745f946'}, 'dob': {'date': '1977-07-26T11:58:34.787Z', 'age': 45}, 'registered': {'date': '2008-06-02T23:06:02.636Z', 'age': 15}, 'phone': '071-904-7618', 'cell': '081-770-9163', 'id': {'name': 'PPS', 'value': '9483724T'}, 'picture': {'large': 'https://randomuser.me/api/portraits/women/72.jpg', 'medium': 'https://randomuser.me/api/portraits/med/women/72.jpg', 'thumbnail': 'https://randomuser.me/api/portraits/thumb/women/72.jpg'}, 'nat': 'IE'}], 'info': {'seed': '48b88b013011fbec', 'results': 1, 'page': 1, 'version': '1.4'}}\n",
            "gender:female\n",
            "name:{'title': 'Miss', 'first': 'Maddison', 'last': 'Kelly'}\n",
            "location:{'street': {'number': 1793, 'name': 'Albert Road'}, 'city': 'Maynooth', 'state': 'Leitrim', 'country': 'Ireland', 'postcode': 44497, 'coordinates': {'latitude': '-1.8166', 'longitude': '48.6149'}, 'timezone': {'offset': '+3:00', 'description': 'Baghdad, Riyadh, Moscow, St. Petersburg'}}\n",
            "email:maddison.kelly@example.com\n",
            "login:{'uuid': 'a70820a8-6a16-4512-b910-b794bee17ba3', 'username': 'angrypeacock506', 'password': 'acura', 'salt': 'Ofyvhl0J', 'md5': '27defee03036e6ff31494f7a10f106a8', 'sha1': '91a6a05209f68024dc6653c5d9ab825ff57f8666', 'sha256': 'ebfc84c2c69531a03f07e0f1a0c81cf8c6dec988798f82dc3b77ab405745f946'}\n",
            "dob:{'date': '1977-07-26T11:58:34.787Z', 'age': 45}\n",
            "registered:{'date': '2008-06-02T23:06:02.636Z', 'age': 15}\n",
            "phone:071-904-7618\n",
            "cell:081-770-9163\n",
            "id:{'name': 'PPS', 'value': '9483724T'}\n",
            "picture:{'large': 'https://randomuser.me/api/portraits/women/72.jpg', 'medium': 'https://randomuser.me/api/portraits/med/women/72.jpg', 'thumbnail': 'https://randomuser.me/api/portraits/thumb/women/72.jpg'}\n",
            "nat:IE\n"
          ]
        },
        {
          "output_type": "display_data",
          "data": {
            "text/html": [
              "<img src=\"https://randomuser.me/api/portraits/women/72.jpg\"/>"
            ],
            "text/plain": [
              "<IPython.core.display.Image object>"
            ]
          },
          "metadata": {}
        },
        {
          "output_type": "stream",
          "name": "stdout",
          "text": [
            "\n",
            "\n"
          ]
        }
      ]
    },
    {
      "cell_type": "code",
      "source": [
        "#@title Example form fields\n",
        "#@markdown Forms support many types of fields.\n",
        "\n",
        "no_type_checking = None  #@param\n",
        "string_type = 'asdfsd'  #@param {type: \"string\"}\n",
        "slider_value = 190  #@param {type: \"slider\", min: 100, max: 200}\n",
        "number = 23  #@param {type: \"number\"}\n",
        "date = '2023-06-12'  #@param {type: \"date\"}\n",
        "pick_me = \"tuesday\"  #@param ['monday', 'tuesday', 'wednesday', 'thursday']\n",
        "select_or_input = \"oranges\" #@param [\"apples\", \"bananas\", \"oranges\"] {allow-input: true}\n",
        "#@markdown ---"
      ],
      "metadata": {
        "cellView": "form",
        "id": "5SWKz6Uj9NHV"
      },
      "execution_count": 54,
      "outputs": []
    },
    {
      "cell_type": "code",
      "source": [
        "print(slider_value)\n",
        "print(number)\n",
        "print(date)"
      ],
      "metadata": {
        "colab": {
          "base_uri": "https://localhost:8080/"
        },
        "id": "DxzWHu8k9oiu",
        "outputId": "eccb8c2d-92a4-4dca-d76c-d16b67fe402a"
      },
      "execution_count": 20,
      "outputs": [
        {
          "output_type": "stream",
          "name": "stdout",
          "text": [
            "190\n",
            "23\n",
            "2023-06-12\n"
          ]
        }
      ]
    },
    {
      "cell_type": "code",
      "source": [],
      "metadata": {
        "id": "S0Ro462w-HUV"
      },
      "execution_count": null,
      "outputs": []
    },
    {
      "cell_type": "code",
      "source": [
        "from IPython.display import display, Javascript\n",
        "from google.colab.output import eval_js\n",
        "from base64 import b64decode\n",
        "\n",
        "def take_photo(filename='photo.jpg', quality=0.8):\n",
        "  js = Javascript('''\n",
        "    async function takePhoto(quality) {\n",
        "      const div = document.createElement('div');\n",
        "      const capture = document.createElement('button');\n",
        "      capture.textContent = 'Capture';\n",
        "      div.appendChild(capture);\n",
        "\n",
        "      const video = document.createElement('video');\n",
        "      video.style.display = 'block';\n",
        "      const stream = await navigator.mediaDevices.getUserMedia({video: true});\n",
        "\n",
        "      document.body.appendChild(div);\n",
        "      div.appendChild(video);\n",
        "      video.srcObject = stream;\n",
        "      await video.play();\n",
        "\n",
        "      // Resize the output to fit the video element.\n",
        "      google.colab.output.setIframeHeight(document.documentElement.scrollHeight, true);\n",
        "\n",
        "      // Wait for Capture to be clicked.\n",
        "      await new Promise((resolve) => capture.onclick = resolve);\n",
        "\n",
        "      const canvas = document.createElement('canvas');\n",
        "      canvas.width = video.videoWidth;\n",
        "      canvas.height = video.videoHeight;\n",
        "      canvas.getContext('2d').drawImage(video, 0, 0);\n",
        "      stream.getVideoTracks()[0].stop();\n",
        "      div.remove();\n",
        "      return canvas.toDataURL('image/jpeg', quality);\n",
        "    }\n",
        "    ''')\n",
        "  display(js)\n",
        "  data = eval_js('takePhoto({})'.format(quality))\n",
        "  binary = b64decode(data.split(',')[1])\n",
        "  with open(filename, 'wb') as f:\n",
        "    f.write(binary)\n",
        "  return filename"
      ],
      "metadata": {
        "id": "8RT1yE0a-LzU"
      },
      "execution_count": 22,
      "outputs": []
    },
    {
      "cell_type": "code",
      "source": [
        "from IPython.display import Image\n",
        "!cd /gdrive/MyDrive/Colab\\ Notebooks\n",
        "try:\n",
        "  filename = take_photo()\n",
        "  print('Saved to {}'.format(filename))\n",
        "\n",
        "  # Show the image which was just taken.\n",
        "  display(Image(filename))\n",
        "except Exception as err:\n",
        "  # Errors will be thrown if the user does not have a webcam or if they do not\n",
        "  # grant the page permission to access it.\n",
        "  print(str(err))"
      ],
      "metadata": {
        "colab": {
          "base_uri": "https://localhost:8080/",
          "height": 515
        },
        "id": "Nu630zR8-LzV",
        "outputId": "149126cb-1f94-4b1d-887f-c944af7b2eb1"
      },
      "execution_count": 44,
      "outputs": [
        {
          "output_type": "display_data",
          "data": {
            "text/plain": [
              "<IPython.core.display.Javascript object>"
            ],
            "application/javascript": [
              "\n",
              "    async function takePhoto(quality) {\n",
              "      const div = document.createElement('div');\n",
              "      const capture = document.createElement('button');\n",
              "      capture.textContent = 'Capture';\n",
              "      div.appendChild(capture);\n",
              "\n",
              "      const video = document.createElement('video');\n",
              "      video.style.display = 'block';\n",
              "      const stream = await navigator.mediaDevices.getUserMedia({video: true});\n",
              "\n",
              "      document.body.appendChild(div);\n",
              "      div.appendChild(video);\n",
              "      video.srcObject = stream;\n",
              "      await video.play();\n",
              "\n",
              "      // Resize the output to fit the video element.\n",
              "      google.colab.output.setIframeHeight(document.documentElement.scrollHeight, true);\n",
              "\n",
              "      // Wait for Capture to be clicked.\n",
              "      await new Promise((resolve) => capture.onclick = resolve);\n",
              "\n",
              "      const canvas = document.createElement('canvas');\n",
              "      canvas.width = video.videoWidth;\n",
              "      canvas.height = video.videoHeight;\n",
              "      canvas.getContext('2d').drawImage(video, 0, 0);\n",
              "      stream.getVideoTracks()[0].stop();\n",
              "      div.remove();\n",
              "      return canvas.toDataURL('image/jpeg', quality);\n",
              "    }\n",
              "    "
            ]
          },
          "metadata": {}
        },
        {
          "output_type": "stream",
          "name": "stdout",
          "text": [
            "Saved to photo.jpg\n"
          ]
        },
        {
          "output_type": "display_data",
          "data": {
            "image/jpeg": "[encoded data removed]",
            "text/plain": [
              "<IPython.core.display.Image object>"
            ]
          },
          "metadata": {}
        }
      ]
    },
    {
      "cell_type": "code",
      "source": [
        "from google.colab import files\n",
        "%cd /gdrive/MyDrive/Colab\\ Notebooks\n",
        "uploaded = files.upload()\n",
        "\n",
        "for fn in uploaded.keys():\n",
        "  print('User uploaded file \"{name}\" with length {length} bytes'.format(\n",
        "      name=fn, length=len(uploaded[fn])))"
      ],
      "metadata": {
        "colab": {
          "base_uri": "https://localhost:8080/",
          "height": 109
        },
        "id": "Wadgslu3D31z",
        "outputId": "48fb0f67-aa49-4c80-e394-786351bbde3b"
      },
      "execution_count": 41,
      "outputs": [
        {
          "output_type": "stream",
          "name": "stdout",
          "text": [
            "/gdrive/MyDrive/Colab Notebooks\n"
          ]
        },
        {
          "output_type": "display_data",
          "data": {
            "text/plain": [
              "<IPython.core.display.HTML object>"
            ],
            "text/html": [
              "\n",
              "     <input type=\"file\" id=\"files-54ce4fee-bce5-49b6-bb8e-82e1c05e5a80\" name=\"files[]\" multiple disabled\n",
              "        style=\"border:none\" />\n",
              "     <output id=\"result-54ce4fee-bce5-49b6-bb8e-82e1c05e5a80\">\n",
              "      Upload widget is only available when the cell has been executed in the\n",
              "      current browser session. Please rerun this cell to enable.\n",
              "      </output>\n",
              "      <script>// Copyright 2017 Google LLC\n",
              "//\n",
              "// Licensed under the Apache License, Version 2.0 (the \"License\");\n",
              "// you may not use this file except in compliance with the License.\n",
              "// You may obtain a copy of the License at\n",
              "//\n",
              "//      http://www.apache.org/licenses/LICENSE-2.0\n",
              "//\n",
              "// Unless required by applicable law or agreed to in writing, software\n",
              "// distributed under the License is distributed on an \"AS IS\" BASIS,\n",
              "// WITHOUT WARRANTIES OR CONDITIONS OF ANY KIND, either express or implied.\n",
              "// See the License for the specific language governing permissions and\n",
              "// limitations under the License.\n",
              "\n",
              "/**\n",
              " * @fileoverview Helpers for google.colab Python module.\n",
              " */\n",
              "(function(scope) {\n",
              "function span(text, styleAttributes = {}) {\n",
              "  const element = document.createElement('span');\n",
              "  element.textContent = text;\n",
              "  for (const key of Object.keys(styleAttributes)) {\n",
              "    element.style[key] = styleAttributes[key];\n",
              "  }\n",
              "  return element;\n",
              "}\n",
              "\n",
              "// Max number of bytes which will be uploaded at a time.\n",
              "const MAX_PAYLOAD_SIZE = 100 * 1024;\n",
              "\n",
              "function _uploadFiles(inputId, outputId) {\n",
              "  const steps = uploadFilesStep(inputId, outputId);\n",
              "  const outputElement = document.getElementById(outputId);\n",
              "  // Cache steps on the outputElement to make it available for the next call\n",
              "  // to uploadFilesContinue from Python.\n",
              "  outputElement.steps = steps;\n",
              "\n",
              "  return _uploadFilesContinue(outputId);\n",
              "}\n",
              "\n",
              "// This is roughly an async generator (not supported in the browser yet),\n",
              "// where there are multiple asynchronous steps and the Python side is going\n",
              "// to poll for completion of each step.\n",
              "// This uses a Promise to block the python side on completion of each step,\n",
              "// then passes the result of the previous step as the input to the next step.\n",
              "function _uploadFilesContinue(outputId) {\n",
              "  const outputElement = document.getElementById(outputId);\n",
              "  const steps = outputElement.steps;\n",
              "\n",
              "  const next = steps.next(outputElement.lastPromiseValue);\n",
              "  return Promise.resolve(next.value.promise).then((value) => {\n",
              "    // Cache the last promise value to make it available to the next\n",
              "    // step of the generator.\n",
              "    outputElement.lastPromiseValue = value;\n",
              "    return next.value.response;\n",
              "  });\n",
              "}\n",
              "\n",
              "/**\n",
              " * Generator function which is called between each async step of the upload\n",
              " * process.\n",
              " * @param {string} inputId Element ID of the input file picker element.\n",
              " * @param {string} outputId Element ID of the output display.\n",
              " * @return {!Iterable<!Object>} Iterable of next steps.\n",
              " */\n",
              "function* uploadFilesStep(inputId, outputId) {\n",
              "  const inputElement = document.getElementById(inputId);\n",
              "  inputElement.disabled = false;\n",
              "\n",
              "  const outputElement = document.getElementById(outputId);\n",
              "  outputElement.innerHTML = '';\n",
              "\n",
              "  const pickedPromise = new Promise((resolve) => {\n",
              "    inputElement.addEventListener('change', (e) => {\n",
              "      resolve(e.target.files);\n",
              "    });\n",
              "  });\n",
              "\n",
              "  const cancel = document.createElement('button');\n",
              "  inputElement.parentElement.appendChild(cancel);\n",
              "  cancel.textContent = 'Cancel upload';\n",
              "  const cancelPromise = new Promise((resolve) => {\n",
              "    cancel.onclick = () => {\n",
              "      resolve(null);\n",
              "    };\n",
              "  });\n",
              "\n",
              "  // Wait for the user to pick the files.\n",
              "  const files = yield {\n",
              "    promise: Promise.race([pickedPromise, cancelPromise]),\n",
              "    response: {\n",
              "      action: 'starting',\n",
              "    }\n",
              "  };\n",
              "\n",
              "  cancel.remove();\n",
              "\n",
              "  // Disable the input element since further picks are not allowed.\n",
              "  inputElement.disabled = true;\n",
              "\n",
              "  if (!files) {\n",
              "    return {\n",
              "      response: {\n",
              "        action: 'complete',\n",
              "      }\n",
              "    };\n",
              "  }\n",
              "\n",
              "  for (const file of files) {\n",
              "    const li = document.createElement('li');\n",
              "    li.append(span(file.name, {fontWeight: 'bold'}));\n",
              "    li.append(span(\n",
              "        `(${file.type || 'n/a'}) - ${file.size} bytes, ` +\n",
              "        `last modified: ${\n",
              "            file.lastModifiedDate ? file.lastModifiedDate.toLocaleDateString() :\n",
              "                                    'n/a'} - `));\n",
              "    const percent = span('0% done');\n",
              "    li.appendChild(percent);\n",
              "\n",
              "    outputElement.appendChild(li);\n",
              "\n",
              "    const fileDataPromise = new Promise((resolve) => {\n",
              "      const reader = new FileReader();\n",
              "      reader.onload = (e) => {\n",
              "        resolve(e.target.result);\n",
              "      };\n",
              "      reader.readAsArrayBuffer(file);\n",
              "    });\n",
              "    // Wait for the data to be ready.\n",
              "    let fileData = yield {\n",
              "      promise: fileDataPromise,\n",
              "      response: {\n",
              "        action: 'continue',\n",
              "      }\n",
              "    };\n",
              "\n",
              "    // Use a chunked sending to avoid message size limits. See b/62115660.\n",
              "    let position = 0;\n",
              "    do {\n",
              "      const length = Math.min(fileData.byteLength - position, MAX_PAYLOAD_SIZE);\n",
              "      const chunk = new Uint8Array(fileData, position, length);\n",
              "      position += length;\n",
              "\n",
              "      const base64 = btoa(String.fromCharCode.apply(null, chunk));\n",
              "      yield {\n",
              "        response: {\n",
              "          action: 'append',\n",
              "          file: file.name,\n",
              "          data: base64,\n",
              "        },\n",
              "      };\n",
              "\n",
              "      let percentDone = fileData.byteLength === 0 ?\n",
              "          100 :\n",
              "          Math.round((position / fileData.byteLength) * 100);\n",
              "      percent.textContent = `${percentDone}% done`;\n",
              "\n",
              "    } while (position < fileData.byteLength);\n",
              "  }\n",
              "\n",
              "  // All done.\n",
              "  yield {\n",
              "    response: {\n",
              "      action: 'complete',\n",
              "    }\n",
              "  };\n",
              "}\n",
              "\n",
              "scope.google = scope.google || {};\n",
              "scope.google.colab = scope.google.colab || {};\n",
              "scope.google.colab._files = {\n",
              "  _uploadFiles,\n",
              "  _uploadFilesContinue,\n",
              "};\n",
              "})(self);\n",
              "</script> "
            ]
          },
          "metadata": {}
        },
        {
          "output_type": "stream",
          "name": "stdout",
          "text": [
            "Saving apuntes.txt to apuntes.txt\n",
            "User uploaded file \"apuntes.txt\" with length 14707 bytes\n"
          ]
        }
      ]
    },
    {
      "cell_type": "code",
      "source": [
        "!cd /gdrive/MyDrive/Colab\\ Notebooks\n",
        "!ls\n",
        "!pwd\n"
      ],
      "metadata": {
        "colab": {
          "base_uri": "https://localhost:8080/"
        },
        "id": "K1nz8BoKEy-U",
        "outputId": "8eb457a4-2565-4bc6-d414-b81c227b9366"
      },
      "execution_count": 43,
      "outputs": [
        {
          "output_type": "stream",
          "name": "stdout",
          "text": [
            " apuntes.txt\n",
            "'clase 27mar2023.ipynb'\n",
            " Curso_Salas_Jun23.ipynb\n",
            " Ejemplo1.ipynb\n",
            " example.txt\n",
            " first-order-model-demo-rt.ipynb\n",
            " prueba.ipynb\n",
            "'red neuronal - clasificar imágenes del conjunto de datos MNIST .ipynb'\n",
            "'Tu_primera_red_neuronal_en_Python_y_Tensorflow - Grados celsius a fahrenheit.ipynb'\n",
            " Untitled0.ipynb\n",
            " Untitled1.ipynb\n",
            " voxels.ipynb\n",
            "/gdrive/MyDrive/Colab Notebooks\n"
          ]
        }
      ]
    },
    {
      "cell_type": "code",
      "source": [
        "from google.colab import files\n",
        "%cd /gdrive/MyDrive/Colab\\ Notebooks\n",
        "with open('example.txt', 'w') as f:\n",
        "  f.write('some content')\n",
        "\n",
        "files.download('example.txt')"
      ],
      "metadata": {
        "colab": {
          "base_uri": "https://localhost:8080/",
          "height": 35
        },
        "id": "-h7xvkeREl-4",
        "outputId": "49b83fcf-4618-4727-9046-e4ff52452745"
      },
      "execution_count": 40,
      "outputs": [
        {
          "output_type": "stream",
          "name": "stdout",
          "text": [
            "/gdrive/MyDrive/Colab Notebooks\n"
          ]
        },
        {
          "output_type": "display_data",
          "data": {
            "text/plain": [
              "<IPython.core.display.Javascript object>"
            ],
            "application/javascript": [
              "\n",
              "    async function download(id, filename, size) {\n",
              "      if (!google.colab.kernel.accessAllowed) {\n",
              "        return;\n",
              "      }\n",
              "      const div = document.createElement('div');\n",
              "      const label = document.createElement('label');\n",
              "      label.textContent = `Downloading \"${filename}\": `;\n",
              "      div.appendChild(label);\n",
              "      const progress = document.createElement('progress');\n",
              "      progress.max = size;\n",
              "      div.appendChild(progress);\n",
              "      document.body.appendChild(div);\n",
              "\n",
              "      const buffers = [];\n",
              "      let downloaded = 0;\n",
              "\n",
              "      const channel = await google.colab.kernel.comms.open(id);\n",
              "      // Send a message to notify the kernel that we're ready.\n",
              "      channel.send({})\n",
              "\n",
              "      for await (const message of channel.messages) {\n",
              "        // Send a message to notify the kernel that we're ready.\n",
              "        channel.send({})\n",
              "        if (message.buffers) {\n",
              "          for (const buffer of message.buffers) {\n",
              "            buffers.push(buffer);\n",
              "            downloaded += buffer.byteLength;\n",
              "            progress.value = downloaded;\n",
              "          }\n",
              "        }\n",
              "      }\n",
              "      const blob = new Blob(buffers, {type: 'application/binary'});\n",
              "      const a = document.createElement('a');\n",
              "      a.href = window.URL.createObjectURL(blob);\n",
              "      a.download = filename;\n",
              "      div.appendChild(a);\n",
              "      a.click();\n",
              "      div.remove();\n",
              "    }\n",
              "  "
            ]
          },
          "metadata": {}
        },
        {
          "output_type": "display_data",
          "data": {
            "text/plain": [
              "<IPython.core.display.Javascript object>"
            ],
            "application/javascript": [
              "download(\"download_3766d012-d7b8-45c6-836f-7a621d49fa2c\", \"example.txt\", 12)"
            ]
          },
          "metadata": {}
        }
      ]
    },
    {
      "cell_type": "code",
      "source": [
        "from google.colab import drive\n",
        "drive.mount('/gdrive')\n",
        "%cd /gdrive"
      ],
      "metadata": {
        "colab": {
          "base_uri": "https://localhost:8080/"
        },
        "id": "I_2Skhb3Cytx",
        "outputId": "36c3f6cc-2c3e-488d-f841-90dec6612a64"
      },
      "execution_count": 25,
      "outputs": [
        {
          "output_type": "stream",
          "name": "stdout",
          "text": [
            "Mounted at /gdrive\n",
            "/gdrive\n"
          ]
        }
      ]
    },
    {
      "cell_type": "code",
      "source": [
        "from google.colab import auth\n",
        "auth.authenticate_user()\n",
        "\n",
        "import gspread\n",
        "from google.auth import default\n",
        "creds, _ = default()\n",
        "\n",
        "gc = gspread.authorize(creds)\n",
        "\n",
        "worksheet = gc.open('contactos').sheet1\n",
        "\n",
        "# get_all_values gives a list of rows.\n",
        "rows = worksheet.get_all_values()\n",
        "print(rows)\n",
        "\n",
        "# Convert to a DataFrame and render.\n",
        "import pandas as pd\n",
        "pd.DataFrame.from_records(rows)"
      ],
      "metadata": {
        "colab": {
          "base_uri": "https://localhost:8080/",
          "height": 589
        },
        "id": "-5VMKD4GA7Rd",
        "outputId": "691686c9-4fe1-4951-a543-717167ca4b6a"
      },
      "execution_count": 23,
      "outputs": [
        {
          "output_type": "stream",
          "name": "stdout",
          "text": [
            "[['Timestamp', 'Nombre:', 'Móvil:', 'E-mail:'], ['5/10/2021 17:25:12', 'Abarca López Javier', '9621393404', 'abarcalopez0101@gmail.com'], ['5/10/2021 17:25:30', 'Barrios Mérida Yimy Alexei', '9621371256', 'yimmybm11@gmail.com'], ['5/10/2021 17:25:31', 'Ávila Muñoz Marcos Hiram', '9621476905', 'marcos20avila@gmail.com'], ['5/10/2021 17:26:01', 'Mejía Sandoval Luis Gerardo', '9621663084', 'luisjerardomejiab23@gmail.com'], ['5/10/2021 17:26:13', 'Axel Francisco Rabanales Garcia ', '9641064524', 'al19510082@tapachula.tecnm.mx'], ['5/10/2021 17:27:11', 'Rodríguez Marroquín Carlos Uriel', '9622471944', 'rodriguezmarroquincarlosuriel@gmail.com'], ['5/10/2021 17:27:21', 'Jhoana Irasu Urbina Martínez', '9181246568', 'irasumartinez5009@gmail.com'], ['5/10/2021 17:30:10', 'Hernández González Brian Alexis', '9622917988', 'brianhdz011@gmail.com'], ['5/10/2021 17:32:00', 'Chong Arteaga Samuel', '9622735376', 'saultra7@gmail.com'], ['5/10/2021 17:32:29', 'Vázquez Molano Deyanira Lisbeth ', '9621815089', 'molanodeyanira@gmail.com'], ['5/10/2021 17:36:15', 'Axel Francisco Rabanales Garcia ', '9641064524', 'axel19raga@gmail.com'], ['5/10/2021 17:37:29', 'Santiago Castillejos Edgar Augusto ', '9626225184', 'ragde0972@gmail.com'], ['5/10/2021 17:39:17', 'González Trujillo Juan Carlos ', '9621156290', 'gonzaleztrujillo24@gmail.com'], ['5/10/2021 17:54:40', 'Cruz Díaz Manuel Adrián ', '9622865059', 'manuelcruz0605@gmail.com'], ['5/10/2021 19:07:01', 'axel Francisco Rabanales Garcia ', '9641064524', 'axel19raga@gmail.com']]\n"
          ]
        },
        {
          "output_type": "execute_result",
          "data": {
            "text/plain": [
              "                     0                                    1           2  \\\n",
              "0            Timestamp                              Nombre:      Móvil:   \n",
              "1   5/10/2021 17:25:12                  Abarca López Javier  9621393404   \n",
              "2   5/10/2021 17:25:30           Barrios Mérida Yimy Alexei  9621371256   \n",
              "3   5/10/2021 17:25:31             Ávila Muñoz Marcos Hiram  9621476905   \n",
              "4   5/10/2021 17:26:01          Mejía Sandoval Luis Gerardo  9621663084   \n",
              "5   5/10/2021 17:26:13     Axel Francisco Rabanales Garcia   9641064524   \n",
              "6   5/10/2021 17:27:11     Rodríguez Marroquín Carlos Uriel  9622471944   \n",
              "7   5/10/2021 17:27:21         Jhoana Irasu Urbina Martínez  9181246568   \n",
              "8   5/10/2021 17:30:10      Hernández González Brian Alexis  9622917988   \n",
              "9   5/10/2021 17:32:00                 Chong Arteaga Samuel  9622735376   \n",
              "10  5/10/2021 17:32:29     Vázquez Molano Deyanira Lisbeth   9621815089   \n",
              "11  5/10/2021 17:36:15     Axel Francisco Rabanales Garcia   9641064524   \n",
              "12  5/10/2021 17:37:29  Santiago Castillejos Edgar Augusto   9626225184   \n",
              "13  5/10/2021 17:39:17       González Trujillo Juan Carlos   9621156290   \n",
              "14  5/10/2021 17:54:40             Cruz Díaz Manuel Adrián   9622865059   \n",
              "15  5/10/2021 19:07:01     axel Francisco Rabanales Garcia   9641064524   \n",
              "\n",
              "                                          3  \n",
              "0                                   E-mail:  \n",
              "1                 abarcalopez0101@gmail.com  \n",
              "2                       yimmybm11@gmail.com  \n",
              "3                   marcos20avila@gmail.com  \n",
              "4             luisjerardomejiab23@gmail.com  \n",
              "5             al19510082@tapachula.tecnm.mx  \n",
              "6   rodriguezmarroquincarlosuriel@gmail.com  \n",
              "7               irasumartinez5009@gmail.com  \n",
              "8                     brianhdz011@gmail.com  \n",
              "9                        saultra7@gmail.com  \n",
              "10                 molanodeyanira@gmail.com  \n",
              "11                     axel19raga@gmail.com  \n",
              "12                      ragde0972@gmail.com  \n",
              "13             gonzaleztrujillo24@gmail.com  \n",
              "14                 manuelcruz0605@gmail.com  \n",
              "15                     axel19raga@gmail.com  "
            ],
            "text/html": [
              "\n",
              "  <div id=\"df-746177a4-2cb0-476c-be65-92191a5f5ed5\">\n",
              "    <div class=\"colab-df-container\">\n",
              "      <div>\n",
              "<style scoped>\n",
              "    .dataframe tbody tr th:only-of-type {\n",
              "        vertical-align: middle;\n",
              "    }\n",
              "\n",
              "    .dataframe tbody tr th {\n",
              "        vertical-align: top;\n",
              "    }\n",
              "\n",
              "    .dataframe thead th {\n",
              "        text-align: right;\n",
              "    }\n",
              "</style>\n",
              "<table border=\"1\" class=\"dataframe\">\n",
              "  <thead>\n",
              "    <tr style=\"text-align: right;\">\n",
              "      <th></th>\n",
              "      <th>0</th>\n",
              "      <th>1</th>\n",
              "      <th>2</th>\n",
              "      <th>3</th>\n",
              "    </tr>\n",
              "  </thead>\n",
              "  <tbody>\n",
              "    <tr>\n",
              "      <th>0</th>\n",
              "      <td>Timestamp</td>\n",
              "      <td>Nombre:</td>\n",
              "      <td>Móvil:</td>\n",
              "      <td>E-mail:</td>\n",
              "    </tr>\n",
              "    <tr>\n",
              "      <th>1</th>\n",
              "      <td>5/10/2021 17:25:12</td>\n",
              "      <td>Abarca López Javier</td>\n",
              "      <td>9621393404</td>\n",
              "      <td>abarcalopez0101@gmail.com</td>\n",
              "    </tr>\n",
              "    <tr>\n",
              "      <th>2</th>\n",
              "      <td>5/10/2021 17:25:30</td>\n",
              "      <td>Barrios Mérida Yimy Alexei</td>\n",
              "      <td>9621371256</td>\n",
              "      <td>yimmybm11@gmail.com</td>\n",
              "    </tr>\n",
              "    <tr>\n",
              "      <th>3</th>\n",
              "      <td>5/10/2021 17:25:31</td>\n",
              "      <td>Ávila Muñoz Marcos Hiram</td>\n",
              "      <td>9621476905</td>\n",
              "      <td>marcos20avila@gmail.com</td>\n",
              "    </tr>\n",
              "    <tr>\n",
              "      <th>4</th>\n",
              "      <td>5/10/2021 17:26:01</td>\n",
              "      <td>Mejía Sandoval Luis Gerardo</td>\n",
              "      <td>9621663084</td>\n",
              "      <td>luisjerardomejiab23@gmail.com</td>\n",
              "    </tr>\n",
              "    <tr>\n",
              "      <th>5</th>\n",
              "      <td>5/10/2021 17:26:13</td>\n",
              "      <td>Axel Francisco Rabanales Garcia</td>\n",
              "      <td>9641064524</td>\n",
              "      <td>al19510082@tapachula.tecnm.mx</td>\n",
              "    </tr>\n",
              "    <tr>\n",
              "      <th>6</th>\n",
              "      <td>5/10/2021 17:27:11</td>\n",
              "      <td>Rodríguez Marroquín Carlos Uriel</td>\n",
              "      <td>9622471944</td>\n",
              "      <td>rodriguezmarroquincarlosuriel@gmail.com</td>\n",
              "    </tr>\n",
              "    <tr>\n",
              "      <th>7</th>\n",
              "      <td>5/10/2021 17:27:21</td>\n",
              "      <td>Jhoana Irasu Urbina Martínez</td>\n",
              "      <td>9181246568</td>\n",
              "      <td>irasumartinez5009@gmail.com</td>\n",
              "    </tr>\n",
              "    <tr>\n",
              "      <th>8</th>\n",
              "      <td>5/10/2021 17:30:10</td>\n",
              "      <td>Hernández González Brian Alexis</td>\n",
              "      <td>9622917988</td>\n",
              "      <td>brianhdz011@gmail.com</td>\n",
              "    </tr>\n",
              "    <tr>\n",
              "      <th>9</th>\n",
              "      <td>5/10/2021 17:32:00</td>\n",
              "      <td>Chong Arteaga Samuel</td>\n",
              "      <td>9622735376</td>\n",
              "      <td>saultra7@gmail.com</td>\n",
              "    </tr>\n",
              "    <tr>\n",
              "      <th>10</th>\n",
              "      <td>5/10/2021 17:32:29</td>\n",
              "      <td>Vázquez Molano Deyanira Lisbeth</td>\n",
              "      <td>9621815089</td>\n",
              "      <td>molanodeyanira@gmail.com</td>\n",
              "    </tr>\n",
              "    <tr>\n",
              "      <th>11</th>\n",
              "      <td>5/10/2021 17:36:15</td>\n",
              "      <td>Axel Francisco Rabanales Garcia</td>\n",
              "      <td>9641064524</td>\n",
              "      <td>axel19raga@gmail.com</td>\n",
              "    </tr>\n",
              "    <tr>\n",
              "      <th>12</th>\n",
              "      <td>5/10/2021 17:37:29</td>\n",
              "      <td>Santiago Castillejos Edgar Augusto</td>\n",
              "      <td>9626225184</td>\n",
              "      <td>ragde0972@gmail.com</td>\n",
              "    </tr>\n",
              "    <tr>\n",
              "      <th>13</th>\n",
              "      <td>5/10/2021 17:39:17</td>\n",
              "      <td>González Trujillo Juan Carlos</td>\n",
              "      <td>9621156290</td>\n",
              "      <td>gonzaleztrujillo24@gmail.com</td>\n",
              "    </tr>\n",
              "    <tr>\n",
              "      <th>14</th>\n",
              "      <td>5/10/2021 17:54:40</td>\n",
              "      <td>Cruz Díaz Manuel Adrián</td>\n",
              "      <td>9622865059</td>\n",
              "      <td>manuelcruz0605@gmail.com</td>\n",
              "    </tr>\n",
              "    <tr>\n",
              "      <th>15</th>\n",
              "      <td>5/10/2021 19:07:01</td>\n",
              "      <td>axel Francisco Rabanales Garcia</td>\n",
              "      <td>9641064524</td>\n",
              "      <td>axel19raga@gmail.com</td>\n",
              "    </tr>\n",
              "  </tbody>\n",
              "</table>\n",
              "</div>\n",
              "      <button class=\"colab-df-convert\" onclick=\"convertToInteractive('df-746177a4-2cb0-476c-be65-92191a5f5ed5')\"\n",
              "              title=\"Convert this dataframe to an interactive table.\"\n",
              "              style=\"display:none;\">\n",
              "        \n",
              "  <svg xmlns=\"http://www.w3.org/2000/svg\" height=\"24px\"viewBox=\"0 0 24 24\"\n",
              "       width=\"24px\">\n",
              "    <path d=\"M0 0h24v24H0V0z\" fill=\"none\"/>\n",
              "    <path d=\"M18.56 5.44l.94 2.06.94-2.06 2.06-.94-2.06-.94-.94-2.06-.94 2.06-2.06.94zm-11 1L8.5 8.5l.94-2.06 2.06-.94-2.06-.94L8.5 2.5l-.94 2.06-2.06.94zm10 10l.94 2.06.94-2.06 2.06-.94-2.06-.94-.94-2.06-.94 2.06-2.06.94z\"/><path d=\"M17.41 7.96l-1.37-1.37c-.4-.4-.92-.59-1.43-.59-.52 0-1.04.2-1.43.59L10.3 9.45l-7.72 7.72c-.78.78-.78 2.05 0 2.83L4 21.41c.39.39.9.59 1.41.59.51 0 1.02-.2 1.41-.59l7.78-7.78 2.81-2.81c.8-.78.8-2.07 0-2.86zM5.41 20L4 18.59l7.72-7.72 1.47 1.35L5.41 20z\"/>\n",
              "  </svg>\n",
              "      </button>\n",
              "      \n",
              "  <style>\n",
              "    .colab-df-container {\n",
              "      display:flex;\n",
              "      flex-wrap:wrap;\n",
              "      gap: 12px;\n",
              "    }\n",
              "\n",
              "    .colab-df-convert {\n",
              "      background-color: #E8F0FE;\n",
              "      border: none;\n",
              "      border-radius: 50%;\n",
              "      cursor: pointer;\n",
              "      display: none;\n",
              "      fill: #1967D2;\n",
              "      height: 32px;\n",
              "      padding: 0 0 0 0;\n",
              "      width: 32px;\n",
              "    }\n",
              "\n",
              "    .colab-df-convert:hover {\n",
              "      background-color: #E2EBFA;\n",
              "      box-shadow: 0px 1px 2px rgba(60, 64, 67, 0.3), 0px 1px 3px 1px rgba(60, 64, 67, 0.15);\n",
              "      fill: #174EA6;\n",
              "    }\n",
              "\n",
              "    [theme=dark] .colab-df-convert {\n",
              "      background-color: #3B4455;\n",
              "      fill: #D2E3FC;\n",
              "    }\n",
              "\n",
              "    [theme=dark] .colab-df-convert:hover {\n",
              "      background-color: #434B5C;\n",
              "      box-shadow: 0px 1px 3px 1px rgba(0, 0, 0, 0.15);\n",
              "      filter: drop-shadow(0px 1px 2px rgba(0, 0, 0, 0.3));\n",
              "      fill: #FFFFFF;\n",
              "    }\n",
              "  </style>\n",
              "\n",
              "      <script>\n",
              "        const buttonEl =\n",
              "          document.querySelector('#df-746177a4-2cb0-476c-be65-92191a5f5ed5 button.colab-df-convert');\n",
              "        buttonEl.style.display =\n",
              "          google.colab.kernel.accessAllowed ? 'block' : 'none';\n",
              "\n",
              "        async function convertToInteractive(key) {\n",
              "          const element = document.querySelector('#df-746177a4-2cb0-476c-be65-92191a5f5ed5');\n",
              "          const dataTable =\n",
              "            await google.colab.kernel.invokeFunction('convertToInteractive',\n",
              "                                                     [key], {});\n",
              "          if (!dataTable) return;\n",
              "\n",
              "          const docLinkHtml = 'Like what you see? Visit the ' +\n",
              "            '<a target=\"_blank\" href=https://colab.research.google.com/notebooks/data_table.ipynb>data table notebook</a>'\n",
              "            + ' to learn more about interactive tables.';\n",
              "          element.innerHTML = '';\n",
              "          dataTable['output_type'] = 'display_data';\n",
              "          await google.colab.output.renderOutput(dataTable, element);\n",
              "          const docLink = document.createElement('div');\n",
              "          docLink.innerHTML = docLinkHtml;\n",
              "          element.appendChild(docLink);\n",
              "        }\n",
              "      </script>\n",
              "    </div>\n",
              "  </div>\n",
              "  "
            ]
          },
          "metadata": {},
          "execution_count": 23
        }
      ]
    },
    {
      "cell_type": "code",
      "source": [
        "%%time\n",
        "import pandas as pd\n",
        "\n",
        "last_names = ['Connor', 'Connor', 'Reese']\n",
        "first_names = ['Sarah', 'John', 'Kyle']\n",
        "df = pd.DataFrame({\n",
        "  'first_name': first_names,\n",
        "  'last_name': last_names,\n",
        "})\n",
        "df"
      ],
      "metadata": {
        "colab": {
          "base_uri": "https://localhost:8080/",
          "height": 180
        },
        "id": "nWD_tiswG484",
        "outputId": "ce24d00c-2c01-4061-b56c-75bf2d1f24aa"
      },
      "execution_count": 86,
      "outputs": [
        {
          "output_type": "stream",
          "name": "stdout",
          "text": [
            "CPU times: user 1.01 ms, sys: 0 ns, total: 1.01 ms\n",
            "Wall time: 1.03 ms\n"
          ]
        },
        {
          "output_type": "execute_result",
          "data": {
            "text/plain": [
              "  first_name last_name\n",
              "0      Sarah    Connor\n",
              "1       John    Connor\n",
              "2       Kyle     Reese"
            ],
            "text/html": [
              "\n",
              "  <div id=\"df-da32827a-b7fa-4a59-aed8-88adb82604b3\">\n",
              "    <div class=\"colab-df-container\">\n",
              "      <div>\n",
              "<style scoped>\n",
              "    .dataframe tbody tr th:only-of-type {\n",
              "        vertical-align: middle;\n",
              "    }\n",
              "\n",
              "    .dataframe tbody tr th {\n",
              "        vertical-align: top;\n",
              "    }\n",
              "\n",
              "    .dataframe thead th {\n",
              "        text-align: right;\n",
              "    }\n",
              "</style>\n",
              "<table border=\"1\" class=\"dataframe\">\n",
              "  <thead>\n",
              "    <tr style=\"text-align: right;\">\n",
              "      <th></th>\n",
              "      <th>first_name</th>\n",
              "      <th>last_name</th>\n",
              "    </tr>\n",
              "  </thead>\n",
              "  <tbody>\n",
              "    <tr>\n",
              "      <th>0</th>\n",
              "      <td>Sarah</td>\n",
              "      <td>Connor</td>\n",
              "    </tr>\n",
              "    <tr>\n",
              "      <th>1</th>\n",
              "      <td>John</td>\n",
              "      <td>Connor</td>\n",
              "    </tr>\n",
              "    <tr>\n",
              "      <th>2</th>\n",
              "      <td>Kyle</td>\n",
              "      <td>Reese</td>\n",
              "    </tr>\n",
              "  </tbody>\n",
              "</table>\n",
              "</div>\n",
              "      <button class=\"colab-df-convert\" onclick=\"convertToInteractive('df-da32827a-b7fa-4a59-aed8-88adb82604b3')\"\n",
              "              title=\"Convert this dataframe to an interactive table.\"\n",
              "              style=\"display:none;\">\n",
              "        \n",
              "  <svg xmlns=\"http://www.w3.org/2000/svg\" height=\"24px\"viewBox=\"0 0 24 24\"\n",
              "       width=\"24px\">\n",
              "    <path d=\"M0 0h24v24H0V0z\" fill=\"none\"/>\n",
              "    <path d=\"M18.56 5.44l.94 2.06.94-2.06 2.06-.94-2.06-.94-.94-2.06-.94 2.06-2.06.94zm-11 1L8.5 8.5l.94-2.06 2.06-.94-2.06-.94L8.5 2.5l-.94 2.06-2.06.94zm10 10l.94 2.06.94-2.06 2.06-.94-2.06-.94-.94-2.06-.94 2.06-2.06.94z\"/><path d=\"M17.41 7.96l-1.37-1.37c-.4-.4-.92-.59-1.43-.59-.52 0-1.04.2-1.43.59L10.3 9.45l-7.72 7.72c-.78.78-.78 2.05 0 2.83L4 21.41c.39.39.9.59 1.41.59.51 0 1.02-.2 1.41-.59l7.78-7.78 2.81-2.81c.8-.78.8-2.07 0-2.86zM5.41 20L4 18.59l7.72-7.72 1.47 1.35L5.41 20z\"/>\n",
              "  </svg>\n",
              "      </button>\n",
              "      \n",
              "  <style>\n",
              "    .colab-df-container {\n",
              "      display:flex;\n",
              "      flex-wrap:wrap;\n",
              "      gap: 12px;\n",
              "    }\n",
              "\n",
              "    .colab-df-convert {\n",
              "      background-color: #E8F0FE;\n",
              "      border: none;\n",
              "      border-radius: 50%;\n",
              "      cursor: pointer;\n",
              "      display: none;\n",
              "      fill: #1967D2;\n",
              "      height: 32px;\n",
              "      padding: 0 0 0 0;\n",
              "      width: 32px;\n",
              "    }\n",
              "\n",
              "    .colab-df-convert:hover {\n",
              "      background-color: #E2EBFA;\n",
              "      box-shadow: 0px 1px 2px rgba(60, 64, 67, 0.3), 0px 1px 3px 1px rgba(60, 64, 67, 0.15);\n",
              "      fill: #174EA6;\n",
              "    }\n",
              "\n",
              "    [theme=dark] .colab-df-convert {\n",
              "      background-color: #3B4455;\n",
              "      fill: #D2E3FC;\n",
              "    }\n",
              "\n",
              "    [theme=dark] .colab-df-convert:hover {\n",
              "      background-color: #434B5C;\n",
              "      box-shadow: 0px 1px 3px 1px rgba(0, 0, 0, 0.15);\n",
              "      filter: drop-shadow(0px 1px 2px rgba(0, 0, 0, 0.3));\n",
              "      fill: #FFFFFF;\n",
              "    }\n",
              "  </style>\n",
              "\n",
              "      <script>\n",
              "        const buttonEl =\n",
              "          document.querySelector('#df-da32827a-b7fa-4a59-aed8-88adb82604b3 button.colab-df-convert');\n",
              "        buttonEl.style.display =\n",
              "          google.colab.kernel.accessAllowed ? 'block' : 'none';\n",
              "\n",
              "        async function convertToInteractive(key) {\n",
              "          const element = document.querySelector('#df-da32827a-b7fa-4a59-aed8-88adb82604b3');\n",
              "          const dataTable =\n",
              "            await google.colab.kernel.invokeFunction('convertToInteractive',\n",
              "                                                     [key], {});\n",
              "          if (!dataTable) return;\n",
              "\n",
              "          const docLinkHtml = 'Like what you see? Visit the ' +\n",
              "            '<a target=\"_blank\" href=https://colab.research.google.com/notebooks/data_table.ipynb>data table notebook</a>'\n",
              "            + ' to learn more about interactive tables.';\n",
              "          element.innerHTML = '';\n",
              "          dataTable['output_type'] = 'display_data';\n",
              "          await google.colab.output.renderOutput(dataTable, element);\n",
              "          const docLink = document.createElement('div');\n",
              "          docLink.innerHTML = docLinkHtml;\n",
              "          element.appendChild(docLink);\n",
              "        }\n",
              "      </script>\n",
              "    </div>\n",
              "  </div>\n",
              "  "
            ]
          },
          "metadata": {},
          "execution_count": 86
        }
      ]
    },
    {
      "cell_type": "code",
      "source": [
        "#@title\n",
        "!pwd"
      ],
      "metadata": {
        "colab": {
          "base_uri": "https://localhost:8080/"
        },
        "id": "vkPh6sTSOEgA",
        "outputId": "5886f068-61ee-4467-e822-b667e986892d"
      },
      "execution_count": 88,
      "outputs": [
        {
          "output_type": "stream",
          "name": "stdout",
          "text": [
            "/gdrive/MyDrive/Colab Notebooks\n"
          ]
        }
      ]
    },
    {
      "cell_type": "code",
      "source": [
        "%%time\n",
        "print(\"hola\")"
      ],
      "metadata": {
        "colab": {
          "base_uri": "https://localhost:8080/"
        },
        "id": "9feuRqbbQZXe",
        "outputId": "8c795b57-7d53-41c3-c766-f622f9ca52cd"
      },
      "execution_count": 85,
      "outputs": [
        {
          "output_type": "stream",
          "name": "stdout",
          "text": [
            "hola\n",
            "CPU times: user 720 µs, sys: 0 ns, total: 720 µs\n",
            "Wall time: 706 µs\n"
          ]
        }
      ]
    },
    {
      "cell_type": "code",
      "source": [
        "%pwd"
      ],
      "metadata": {
        "colab": {
          "base_uri": "https://localhost:8080/",
          "height": 37
        },
        "id": "Cu9FWGtpO7RT",
        "outputId": "6a94c104-9fcd-4e20-f1e3-a02c74c621ea"
      },
      "execution_count": 66,
      "outputs": [
        {
          "output_type": "execute_result",
          "data": {
            "text/plain": [
              "'/gdrive/MyDrive/Colab Notebooks'"
            ],
            "application/vnd.google.colaboratory.intrinsic+json": {
              "type": "string"
            }
          },
          "metadata": {},
          "execution_count": 66
        }
      ]
    },
    {
      "cell_type": "code",
      "source": [
        "%who"
      ],
      "metadata": {
        "colab": {
          "base_uri": "https://localhost:8080/"
        },
        "id": "9pkcOmLsPA2W",
        "outputId": "159a3393-ac0a-4b11-9024-063bc6b9e174"
      },
      "execution_count": 67,
      "outputs": [
        {
          "output_type": "stream",
          "name": "stdout",
          "text": [
            "GoogleAuth\t GoogleCredentials\t GoogleDrive\t Image\t Javascript\t a\t auth\t b\t b64decode\t \n",
            "cell\t cell_list\t creds\t cv2\t cv2_imshow\t d\t date\t de\t default\t \n",
            "df\t display\t drive\t eval_js\t f\t filename\t files\t first_names\t fn\t \n",
            "gauth\t gc\t gspread\t img\t last_names\t listed\t no_type_checking\t number\t pd\t \n",
            "pick_me\t random\t re\t rows\t select_or_input\t sh\t slider_value\t string_type\t take_photo\t \n",
            "uploaded\t worksheet\t \n"
          ]
        }
      ]
    },
    {
      "cell_type": "code",
      "source": [
        "%who_ls"
      ],
      "metadata": {
        "colab": {
          "base_uri": "https://localhost:8080/"
        },
        "id": "Sas1yF90QOiN",
        "outputId": "fcb8b377-4498-4f55-81f1-67235563c512"
      },
      "execution_count": 82,
      "outputs": [
        {
          "output_type": "execute_result",
          "data": {
            "text/plain": [
              "['GoogleAuth',\n",
              " 'GoogleCredentials',\n",
              " 'GoogleDrive',\n",
              " 'Image',\n",
              " 'Javascript',\n",
              " 'a',\n",
              " 'auth',\n",
              " 'b',\n",
              " 'b64decode',\n",
              " 'cell',\n",
              " 'cell_list',\n",
              " 'creds',\n",
              " 'cv2',\n",
              " 'cv2_imshow',\n",
              " 'd',\n",
              " 'date',\n",
              " 'de',\n",
              " 'default',\n",
              " 'df',\n",
              " 'display',\n",
              " 'drive',\n",
              " 'eval_js',\n",
              " 'f',\n",
              " 'filename',\n",
              " 'files',\n",
              " 'first_names',\n",
              " 'fn',\n",
              " 'gauth',\n",
              " 'gc',\n",
              " 'gspread',\n",
              " 'img',\n",
              " 'last_names',\n",
              " 'listed',\n",
              " 'no_type_checking',\n",
              " 'number',\n",
              " 'pd',\n",
              " 'pick_me',\n",
              " 'random',\n",
              " 're',\n",
              " 'rows',\n",
              " 'select_or_input',\n",
              " 'sh',\n",
              " 'slider_value',\n",
              " 'string_type',\n",
              " 'take_photo',\n",
              " 'uploaded',\n",
              " 'worksheet']"
            ]
          },
          "metadata": {},
          "execution_count": 82
        }
      ]
    },
    {
      "cell_type": "code",
      "source": [
        "!whoami"
      ],
      "metadata": {
        "colab": {
          "base_uri": "https://localhost:8080/"
        },
        "id": "d2DDAt0YPH7t",
        "outputId": "b99f36db-c904-4642-c5cc-01fb1f1cf4e4"
      },
      "execution_count": 70,
      "outputs": [
        {
          "output_type": "stream",
          "name": "stdout",
          "text": [
            "root\n"
          ]
        }
      ]
    },
    {
      "cell_type": "code",
      "source": [
        "%load /gdrive/MyDrive/Colab Notebooks/hoja_calculo.py"
      ],
      "metadata": {
        "id": "bbywbDFzOSfr"
      },
      "execution_count": 64,
      "outputs": []
    },
    {
      "cell_type": "code",
      "source": [
        "%env"
      ],
      "metadata": {
        "id": "QcNwYE-8OhWH"
      },
      "execution_count": null,
      "outputs": []
    },
    {
      "cell_type": "code",
      "source": [
        "%system uname"
      ],
      "metadata": {
        "colab": {
          "base_uri": "https://localhost:8080/"
        },
        "id": "renZBhz4PPvg",
        "outputId": "e516f2cf-19cd-4a63-f0a0-56eea55a3396"
      },
      "execution_count": 75,
      "outputs": [
        {
          "output_type": "execute_result",
          "data": {
            "text/plain": [
              "['Linux']"
            ]
          },
          "metadata": {},
          "execution_count": 75
        }
      ]
    },
    {
      "cell_type": "code",
      "source": [
        "%system uname --kernel-version"
      ],
      "metadata": {
        "colab": {
          "base_uri": "https://localhost:8080/"
        },
        "id": "AmEhLuHyPV0C",
        "outputId": "da541097-6cbf-4d7b-9b18-0fe959ab47fd"
      },
      "execution_count": 79,
      "outputs": [
        {
          "output_type": "execute_result",
          "data": {
            "text/plain": [
              "['#1 SMP Sat Apr 29 09:15:28 UTC 2023']"
            ]
          },
          "metadata": {},
          "execution_count": 79
        }
      ]
    },
    {
      "cell_type": "code",
      "source": [
        "%system python -V"
      ],
      "metadata": {
        "colab": {
          "base_uri": "https://localhost:8080/"
        },
        "id": "Iv-iZ7vSP9yQ",
        "outputId": "34e04692-7cc2-4a7a-df68-4c571fbf6e71"
      },
      "execution_count": 81,
      "outputs": [
        {
          "output_type": "execute_result",
          "data": {
            "text/plain": [
              "['Python 3.10.12']"
            ]
          },
          "metadata": {},
          "execution_count": 81
        }
      ]
    },
    {
      "cell_type": "code",
      "source": [
        "%%writefile hoja_calculo.py\n",
        "from google.colab import auth\n",
        "auth.authenticate_user()\n",
        "\n",
        "import gspread\n",
        "from google.auth import default\n",
        "creds, _ = default()\n",
        "\n",
        "gc = gspread.authorize(creds)\n",
        "\n",
        "sh = gc.create('Nueva-Junio2023')\n",
        "\n",
        "# Open our new sheet and add some data.\n",
        "worksheet = gc.open('Nueva-Junio2023').sheet1\n",
        "\n",
        "cell_list = worksheet.range('A1:C2')\n",
        "\n",
        "import random\n",
        "for cell in cell_list:\n",
        "  cell.value = random.randint(1, 10)\n",
        "\n",
        "worksheet.update_cells(cell_list)\n",
        "# Go to https://sheets.google.com to see your new spreadsheet."
      ],
      "metadata": {
        "colab": {
          "base_uri": "https://localhost:8080/"
        },
        "id": "1gQK-uYNHScH",
        "outputId": "7f619dd7-e81a-45d5-b74f-131e4c5644a8"
      },
      "execution_count": 74,
      "outputs": [
        {
          "output_type": "stream",
          "name": "stdout",
          "text": [
            "Overwriting hoja_calculo.py\n"
          ]
        }
      ]
    },
    {
      "cell_type": "code",
      "source": [
        "from google.colab.patches import cv2_imshow"
      ],
      "metadata": {
        "id": "9jNMtnE2Hh-w"
      },
      "execution_count": 53,
      "outputs": []
    },
    {
      "cell_type": "code",
      "source": [
        "!curl -o logo.png https://colab.research.google.com/img/colab_favicon_256px.png\n",
        "import cv2\n",
        "img = cv2.imread('logo.png', cv2.IMREAD_UNCHANGED)\n",
        "cv2_imshow(img)"
      ],
      "metadata": {
        "colab": {
          "base_uri": "https://localhost:8080/",
          "height": 332
        },
        "id": "0VTw3CyBHh-x",
        "outputId": "272aef78-e141-442e-abe9-0c5eadfc3a56"
      },
      "execution_count": 52,
      "outputs": [
        {
          "output_type": "stream",
          "name": "stdout",
          "text": [
            "  % Total    % Received % Xferd  Average Speed   Time    Time     Time  Current\n",
            "                                 Dload  Upload   Total   Spent    Left  Speed\n",
            "\r  0     0    0     0    0     0      0      0 --:--:-- --:--:-- --:--:--     0\r100  4534  100  4534    0     0  61270      0 --:--:-- --:--:-- --:--:-- 61270\n"
          ]
        },
        {
          "output_type": "display_data",
          "data": {
            "text/plain": [
              "<PIL.Image.Image image mode=RGBA size=260x260 at 0x7F57A89877F0>"
            ],
            "image/png": "[encoded data removed]"
          },
          "metadata": {}
        }
      ]
    }
  ]
}