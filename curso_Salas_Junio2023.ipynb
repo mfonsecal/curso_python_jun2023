{
  "nbformat": 4,
  "nbformat_minor": 0,
  "metadata": {
    "colab": {
      "provenance": [],
      "authorship_tag": "ABX9TyNS2LWEF1wgJZycGCFEdRUP",
      "include_colab_link": true
    },
    "kernelspec": {
      "name": "python3",
      "display_name": "Python 3"
    },
    "language_info": {
      "name": "python"
    }
  },
  "cells": [
    {
      "cell_type": "markdown",
      "metadata": {
        "id": "view-in-github",
        "colab_type": "text"
      },
      "source": [
        "<a href=\"https://colab.research.google.com/github/mfonsecal/curso_python_jun2023/blob/master/curso_Salas_Junio2023.ipynb\" target=\"_parent\"><img src=\"https://colab.research.google.com/assets/colab-badge.svg\" alt=\"Open In Colab\"/></a>"
      ]
    },
    {
      "cell_type": "markdown",
      "source": [
        "---\n",
        "# Día 1 (12 junio 2023)"
      ],
      "metadata": {
        "id": "gcv9_7fOe1qO"
      }
    },
    {
      "cell_type": "code",
      "execution_count": null,
      "metadata": {
        "colab": {
          "base_uri": "https://localhost:8080/"
        },
        "id": "_BRU9Sved9Yq",
        "outputId": "bddf5ebe-41c4-4355-f5f1-53ce7a8bd519"
      },
      "outputs": [
        {
          "output_type": "stream",
          "name": "stdout",
          "text": [
            "La suma es: 13\n"
          ]
        }
      ],
      "source": [
        "a=10\n",
        "b=3\n",
        "d=a+b\n",
        "print(\"La suma es:\",d)"
      ]
    },
    {
      "cell_type": "code",
      "source": [
        "# Módulo o residuo\n",
        "re=a%b\n",
        "print(re)"
      ],
      "metadata": {
        "colab": {
          "base_uri": "https://localhost:8080/"
        },
        "id": "g-MsviFp5r-a",
        "outputId": "08c12c38-8854-4271-d8e9-d934bf3027a1"
      },
      "execution_count": null,
      "outputs": [
        {
          "output_type": "stream",
          "name": "stdout",
          "text": [
            "1\n"
          ]
        }
      ]
    },
    {
      "cell_type": "code",
      "source": [
        "# División entera\n",
        "de=a//b\n",
        "print(de)"
      ],
      "metadata": {
        "colab": {
          "base_uri": "https://localhost:8080/"
        },
        "id": "tUWzoDpZeOgN",
        "outputId": "495ab6e7-e8df-4cb7-d47d-9633a6ae2380"
      },
      "execution_count": null,
      "outputs": [
        {
          "output_type": "stream",
          "name": "stdout",
          "text": [
            "3\n"
          ]
        }
      ]
    },
    {
      "cell_type": "code",
      "source": [
        "%pwd"
      ],
      "metadata": {
        "colab": {
          "base_uri": "https://localhost:8080/",
          "height": 37
        },
        "id": "B1-nGxAPkNrm",
        "outputId": "a6e04f29-dc2a-423e-9605-b7eca5f3c0dc"
      },
      "execution_count": null,
      "outputs": [
        {
          "output_type": "execute_result",
          "data": {
            "text/plain": [
              "'/content'"
            ],
            "application/vnd.google.colaboratory.intrinsic+json": {
              "type": "string"
            }
          },
          "metadata": {},
          "execution_count": 4
        }
      ]
    },
    {
      "cell_type": "markdown",
      "source": [
        "---\n",
        "# Día 2 (13 junio 2023)"
      ],
      "metadata": {
        "id": "pxMJMNSYeTLG"
      }
    },
    {
      "cell_type": "code",
      "source": [
        "# Uso de operadores\n",
        "a = 10\n",
        "b = 3\n",
        "s = a + b\n",
        "r = a - b\n",
        "m = a * b\n",
        "d = a / b\n",
        "de = a // b\n",
        "mod = a % b\n",
        "exp = a ** b\n",
        "\n",
        "print(\"La suma es: \", s)\n",
        "print(\"La resta es: \" + str(r))\n",
        "print(\"La multiplicación es: \" + str(m))\n",
        "print(\"La división es: \" + str(d))\n",
        "print(\"La división entera es: \" + str(de))\n",
        "print(\"El módulo o residuo es: \" + str(mod))\n",
        "print(f\"El exponente de {a} elevado a la {b} es: \" + str(exp))\n",
        "\n",
        "x = 10\n",
        "y = 5\n",
        "print(f\"El valor de {x} es mayor que {y}: \", x>y)"
      ],
      "metadata": {
        "colab": {
          "base_uri": "https://localhost:8080/"
        },
        "id": "JZcyU9t7erSA",
        "outputId": "cefd1b9a-f7a4-4e26-900c-2acec2417ea8"
      },
      "execution_count": 9,
      "outputs": [
        {
          "output_type": "stream",
          "name": "stdout",
          "text": [
            "La suma es:  13\n",
            "La resta es: 7\n",
            "La multiplicación es: 30\n",
            "La división es: 3.3333333333333335\n",
            "La división entera es: 3\n",
            "El módulo o residuo es: 1\n",
            "El exponente de 10 elevado a la 3 es: 1000\n",
            "El valor de 10 es mayor que 5:  True\n"
          ]
        }
      ]
    },
    {
      "cell_type": "code",
      "source": [
        "# funciones predefinidas built-in\n",
        "msj = \"Curso Python Junio 2023\"\n",
        "print(msj.upper())\n",
        "print(len(msj))\n",
        "print(msj.capitalize()) # primer letra capital\n",
        "print(msj.swapcase())   # convierte una cadena a mayúsculas minúsculas (invertido)\n",
        "print(msj.title())      #\n",
        "print(msj.islower())\n",
        "print(msj.isupper())\n",
        "a = 2; b = 3\n",
        "z = a,b # tupla\n",
        "print(type(z))\n",
        "print(sum(z))   # nota: interesante\n",
        "x = 9.5678\n",
        "print(round(x))"
      ],
      "metadata": {
        "colab": {
          "base_uri": "https://localhost:8080/"
        },
        "id": "u2upuxyygQ_2",
        "outputId": "f7e50cdf-6d5f-49f1-8951-41921b925bc0"
      },
      "execution_count": 10,
      "outputs": [
        {
          "output_type": "stream",
          "name": "stdout",
          "text": [
            "CURSO PYTHON JUNIO 2023\n",
            "23\n",
            "Curso python junio 2023\n",
            "cURSO pYTHON jUNIO 2023\n",
            "Curso Python Junio 2023\n",
            "False\n",
            "False\n",
            "<class 'tuple'>\n",
            "5\n",
            "10\n"
          ]
        }
      ]
    },
    {
      "cell_type": "code",
      "source": [
        "# condiciones\n",
        "a = 2; b = 3\n",
        "if (a>b):\n",
        "\tprint(\"El mayor es a: \", a)\n",
        "else:\n",
        "\tprint(\"El mayor es b: \", b)\n",
        "\n",
        "# operador ternario\n",
        "print(\"El menor es a: \", a) if (a<b) else print(\"El menor es b: \", b)\n",
        "\n",
        "sexo = 'B'\n",
        "if (sexo == \"m\" or sexo == \"M\"):\n",
        "\tprint(\"El sexo es Masculino\")\n",
        "elif (sexo == \"f\" or sexo == \"F\"):\n",
        "\tprint(\"El sexo es Femenino\")\n",
        "else:\n",
        "\tprint(\"El sexo es NO BINARIO\")"
      ],
      "metadata": {
        "colab": {
          "base_uri": "https://localhost:8080/"
        },
        "id": "VW-r6-1PgdPy",
        "outputId": "e64a911a-851d-4aad-eeac-a66d30a3df04"
      },
      "execution_count": 11,
      "outputs": [
        {
          "output_type": "stream",
          "name": "stdout",
          "text": [
            "El mayor es b:  3\n",
            "El menor es a:  2\n",
            "El sexo es NO BINARIO\n"
          ]
        }
      ]
    },
    {
      "cell_type": "code",
      "source": [
        "# Ejercicio día 2\n",
        "def clasifica_calificacion(calificacion):\n",
        "    if (calificacion>=0 and calificacion<70):\n",
        "      print(\"No suficiente\")\n",
        "    elif (calificacion>=70 and calificacion<80):\n",
        "      print(\"Suficiente\")\n",
        "    else:\n",
        "        if (calificacion>=80 and calificacion<90):\n",
        "          print(\"Muy bien\")\n",
        "        elif (calificacion>=90 and calificacion<=100):\n",
        "          print(\"Excelente\")\n",
        "        else:\n",
        "          print(\"Calificación no válida\")\n",
        "\n",
        "def promedio_calificaciones():\n",
        "    while True:\n",
        "        try:\n",
        "            calificacion = float(input(\"Calificación: \"))\n",
        "            if calificacion == 0:\n",
        "                break\n",
        "            clasifica_calificacion(calificacion)\n",
        "            calificaciones.append(calificacion)\n",
        "        except ValueError:\n",
        "            print(\"Inserta un número.\")\n",
        "    if (len(calificaciones)>0):\n",
        "      print(f\"Promedio = {sum(calificaciones)} / {len(calificaciones)} = {sum(calificaciones)/len(calificaciones): .2f}\")\n",
        "\n",
        "calificaciones = list()    # calificaciones = []\n",
        "promedio_calificaciones()\n",
        "# f-string\n",
        "# https://www.analyticslane.com/2021/03/01/uso-de-las-f-string-de-python-para-mejorar-el-formato-de-textos/"
      ],
      "metadata": {
        "colab": {
          "base_uri": "https://localhost:8080/"
        },
        "id": "n2gXi_MPhJaR",
        "outputId": "f4d047d2-2c9c-4bc8-de5f-680bf9a72a34"
      },
      "execution_count": 39,
      "outputs": [
        {
          "output_type": "stream",
          "name": "stdout",
          "text": [
            "Calificación: 100\n",
            "Excelente\n",
            "Calificación: 90\n",
            "Excelente\n",
            "Calificación: 90\n",
            "Excelente\n",
            "Calificación: 80\n",
            "Muy bien\n",
            "Calificación: 80\n",
            "Muy bien\n",
            "Calificación: 70\n",
            "Suficiente\n",
            "Calificación: 75\n",
            "Suficiente\n",
            "Calificación: 89\n",
            "Muy bien\n",
            "Calificación: 79\n",
            "Suficiente\n",
            "Calificación: 0\n",
            "Promedio = 753.0/9 =  83.7\n"
          ]
        }
      ]
    },
    {
      "cell_type": "markdown",
      "source": [
        "\n",
        "---\n",
        "Día 3 (14 junio 2023)"
      ],
      "metadata": {
        "id": "uxO_EXN4p4ka"
      }
    },
    {
      "cell_type": "code",
      "source": [],
      "metadata": {
        "id": "mDHEMoeNp_r9"
      },
      "execution_count": null,
      "outputs": []
    }
  ]
}