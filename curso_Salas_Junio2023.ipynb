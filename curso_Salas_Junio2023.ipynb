{
  "nbformat": 4,
  "nbformat_minor": 0,
  "metadata": {
    "colab": {
      "provenance": [],
      "authorship_tag": "ABX9TyO/FBJTCdOuu7R25S301UoF",
      "include_colab_link": true
    },
    "kernelspec": {
      "name": "python3",
      "display_name": "Python 3"
    },
    "language_info": {
      "name": "python"
    }
  },
  "cells": [
    {
      "cell_type": "markdown",
      "metadata": {
        "id": "view-in-github",
        "colab_type": "text"
      },
      "source": [
        "<a href=\"https://colab.research.google.com/github/mfonsecal/curso_python_jun2023/blob/master/curso_Salas_Junio2023.ipynb\" target=\"_parent\"><img src=\"https://colab.research.google.com/assets/colab-badge.svg\" alt=\"Open In Colab\"/></a>"
      ]
    },
    {
      "cell_type": "code",
      "execution_count": 1,
      "metadata": {
        "colab": {
          "base_uri": "https://localhost:8080/"
        },
        "id": "_BRU9Sved9Yq",
        "outputId": "bddf5ebe-41c4-4355-f5f1-53ce7a8bd519"
      },
      "outputs": [
        {
          "output_type": "stream",
          "name": "stdout",
          "text": [
            "La suma es: 13\n"
          ]
        }
      ],
      "source": [
        "a=10\n",
        "b=3\n",
        "d=a+b\n",
        "print(\"La suma es:\",d)"
      ]
    },
    {
      "cell_type": "code",
      "source": [
        "# Módulo o residuo\n",
        "re=a%b\n",
        "print(re)"
      ],
      "metadata": {
        "colab": {
          "base_uri": "https://localhost:8080/"
        },
        "id": "g-MsviFp5r-a",
        "outputId": "08c12c38-8854-4271-d8e9-d934bf3027a1"
      },
      "execution_count": 2,
      "outputs": [
        {
          "output_type": "stream",
          "name": "stdout",
          "text": [
            "1\n"
          ]
        }
      ]
    },
    {
      "cell_type": "code",
      "source": [
        "# División entera\n",
        "de=a//b\n",
        "print(de)"
      ],
      "metadata": {
        "colab": {
          "base_uri": "https://localhost:8080/"
        },
        "id": "tUWzoDpZeOgN",
        "outputId": "495ab6e7-e8df-4cb7-d47d-9633a6ae2380"
      },
      "execution_count": 3,
      "outputs": [
        {
          "output_type": "stream",
          "name": "stdout",
          "text": [
            "3\n"
          ]
        }
      ]
    }
  ]
}