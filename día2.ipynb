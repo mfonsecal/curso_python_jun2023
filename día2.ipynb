{
 "cells": [
  {
   "cell_type": "markdown",
   "id": "d0c1f4e5-8591-417a-9228-469754ceb196",
   "metadata": {
    "tags": []
   },
   "source": [
    "# Curso intersemestral EJ23: Introducción al procesamiento de datos con Python avanzado\n",
    "del 19 al 23 de junio 2023\n",
    "\n",
    "**Instructores:**  \n",
    "- Mario Francisco Fonseca Lozada  \n",
    "- Carlos Hernández Salas  "
   ]
  },
  {
   "cell_type": "markdown",
   "id": "3b56289e-4018-44da-894c-3517b8f941ab",
   "metadata": {
    "tags": []
   },
   "source": [
    "## Introducción a Jupyter"
   ]
  },
  {
   "cell_type": "markdown",
   "id": "385709a6-7582-467e-8b0e-dca08ea14bf2",
   "metadata": {},
   "source": []
  },
  {
   "cell_type": "code",
   "execution_count": 1,
   "id": "9b6c132c-6f6e-4dd3-88ae-dff34100cb04",
   "metadata": {
    "tags": []
   },
   "outputs": [
    {
     "data": {
      "application/json": {
       "cell": {
        "!": "OSMagics",
        "HTML": "Other",
        "SVG": "Other",
        "bash": "Other",
        "capture": "ExecutionMagics",
        "debug": "ExecutionMagics",
        "file": "Other",
        "html": "DisplayMagics",
        "javascript": "DisplayMagics",
        "js": "DisplayMagics",
        "latex": "DisplayMagics",
        "markdown": "DisplayMagics",
        "perl": "Other",
        "prun": "ExecutionMagics",
        "pypy": "Other",
        "python": "Other",
        "python2": "Other",
        "python3": "Other",
        "ruby": "Other",
        "script": "ScriptMagics",
        "sh": "Other",
        "svg": "DisplayMagics",
        "sx": "OSMagics",
        "system": "OSMagics",
        "time": "ExecutionMagics",
        "timeit": "ExecutionMagics",
        "writefile": "OSMagics"
       },
       "line": {
        "alias": "OSMagics",
        "alias_magic": "BasicMagics",
        "autoawait": "AsyncMagics",
        "autocall": "AutoMagics",
        "automagic": "AutoMagics",
        "autosave": "KernelMagics",
        "bookmark": "OSMagics",
        "cat": "Other",
        "cd": "OSMagics",
        "clear": "KernelMagics",
        "colors": "BasicMagics",
        "conda": "PackagingMagics",
        "config": "ConfigMagics",
        "connect_info": "KernelMagics",
        "cp": "Other",
        "debug": "ExecutionMagics",
        "dhist": "OSMagics",
        "dirs": "OSMagics",
        "doctest_mode": "BasicMagics",
        "ed": "Other",
        "edit": "KernelMagics",
        "env": "OSMagics",
        "gui": "BasicMagics",
        "hist": "Other",
        "history": "HistoryMagics",
        "killbgscripts": "ScriptMagics",
        "ldir": "Other",
        "less": "KernelMagics",
        "lf": "Other",
        "lk": "Other",
        "ll": "Other",
        "load": "CodeMagics",
        "load_ext": "ExtensionMagics",
        "loadpy": "CodeMagics",
        "logoff": "LoggingMagics",
        "logon": "LoggingMagics",
        "logstart": "LoggingMagics",
        "logstate": "LoggingMagics",
        "logstop": "LoggingMagics",
        "ls": "Other",
        "lsmagic": "BasicMagics",
        "lx": "Other",
        "macro": "ExecutionMagics",
        "magic": "BasicMagics",
        "man": "KernelMagics",
        "matplotlib": "PylabMagics",
        "mkdir": "Other",
        "more": "KernelMagics",
        "mv": "Other",
        "notebook": "BasicMagics",
        "page": "BasicMagics",
        "pastebin": "CodeMagics",
        "pdb": "ExecutionMagics",
        "pdef": "NamespaceMagics",
        "pdoc": "NamespaceMagics",
        "pfile": "NamespaceMagics",
        "pinfo": "NamespaceMagics",
        "pinfo2": "NamespaceMagics",
        "pip": "PackagingMagics",
        "popd": "OSMagics",
        "pprint": "BasicMagics",
        "precision": "BasicMagics",
        "prun": "ExecutionMagics",
        "psearch": "NamespaceMagics",
        "psource": "NamespaceMagics",
        "pushd": "OSMagics",
        "pwd": "OSMagics",
        "pycat": "OSMagics",
        "pylab": "PylabMagics",
        "qtconsole": "KernelMagics",
        "quickref": "BasicMagics",
        "recall": "HistoryMagics",
        "rehashx": "OSMagics",
        "reload_ext": "ExtensionMagics",
        "rep": "Other",
        "rerun": "HistoryMagics",
        "reset": "NamespaceMagics",
        "reset_selective": "NamespaceMagics",
        "rm": "Other",
        "rmdir": "Other",
        "run": "ExecutionMagics",
        "save": "CodeMagics",
        "sc": "OSMagics",
        "set_env": "OSMagics",
        "store": "StoreMagics",
        "sx": "OSMagics",
        "system": "OSMagics",
        "tb": "ExecutionMagics",
        "time": "ExecutionMagics",
        "timeit": "ExecutionMagics",
        "unalias": "OSMagics",
        "unload_ext": "ExtensionMagics",
        "who": "NamespaceMagics",
        "who_ls": "NamespaceMagics",
        "whos": "NamespaceMagics",
        "xdel": "NamespaceMagics",
        "xmode": "BasicMagics"
       }
      },
      "text/plain": [
       "Available line magics:\n",
       "%alias  %alias_magic  %autoawait  %autocall  %automagic  %autosave  %bookmark  %cat  %cd  %clear  %colors  %conda  %config  %connect_info  %cp  %debug  %dhist  %dirs  %doctest_mode  %ed  %edit  %env  %gui  %hist  %history  %killbgscripts  %ldir  %less  %lf  %lk  %ll  %load  %load_ext  %loadpy  %logoff  %logon  %logstart  %logstate  %logstop  %ls  %lsmagic  %lx  %macro  %magic  %man  %matplotlib  %mkdir  %more  %mv  %notebook  %page  %pastebin  %pdb  %pdef  %pdoc  %pfile  %pinfo  %pinfo2  %pip  %popd  %pprint  %precision  %prun  %psearch  %psource  %pushd  %pwd  %pycat  %pylab  %qtconsole  %quickref  %recall  %rehashx  %reload_ext  %rep  %rerun  %reset  %reset_selective  %rm  %rmdir  %run  %save  %sc  %set_env  %store  %sx  %system  %tb  %time  %timeit  %unalias  %unload_ext  %who  %who_ls  %whos  %xdel  %xmode\n",
       "\n",
       "Available cell magics:\n",
       "%%!  %%HTML  %%SVG  %%bash  %%capture  %%debug  %%file  %%html  %%javascript  %%js  %%latex  %%markdown  %%perl  %%prun  %%pypy  %%python  %%python2  %%python3  %%ruby  %%script  %%sh  %%svg  %%sx  %%system  %%time  %%timeit  %%writefile\n",
       "\n",
       "Automagic is ON, % prefix IS NOT needed for line magics."
      ]
     },
     "execution_count": 1,
     "metadata": {},
     "output_type": "execute_result"
    }
   ],
   "source": [
    "%lsmagic"
   ]
  },
  {
   "cell_type": "code",
   "execution_count": 2,
   "id": "b26180f0-9854-4080-a918-d7504b621968",
   "metadata": {
    "tags": []
   },
   "outputs": [
    {
     "name": "stdout",
     "output_type": "stream",
     "text": [
      "Overwriting pythoncode.py\n"
     ]
    }
   ],
   "source": [
    "%%writefile pythoncode.py \n",
    "print(\"Hola Mundo - desde Jupyter\")\n",
    "x = 5"
   ]
  },
  {
   "cell_type": "code",
   "execution_count": 3,
   "id": "6558f048-ee96-4d55-bd85-aeea2c196392",
   "metadata": {
    "tags": []
   },
   "outputs": [
    {
     "data": {
      "text/plain": [
       "\u001b[0mprint\u001b[0m\u001b[0;34m(\u001b[0m\u001b[0;34m\"Hola Mundo - desde Jupyter\"\u001b[0m\u001b[0;34m)\u001b[0m\u001b[0;34m\u001b[0m\n",
       "\u001b[0;34m\u001b[0m\u001b[0mx\u001b[0m \u001b[0;34m=\u001b[0m \u001b[0;36m5\u001b[0m\u001b[0;34m\u001b[0m\u001b[0;34m\u001b[0m\u001b[0m\n"
      ]
     },
     "metadata": {},
     "output_type": "display_data"
    }
   ],
   "source": [
    "%pycat pythoncode.py"
   ]
  },
  {
   "cell_type": "code",
   "execution_count": 4,
   "id": "203bf8f2-7e03-4232-bdef-9a77ae0295e8",
   "metadata": {
    "tags": []
   },
   "outputs": [],
   "source": [
    "x = 5"
   ]
  },
  {
   "cell_type": "code",
   "execution_count": 5,
   "id": "1c190b3b-b184-4f82-9ee2-94692969a4bd",
   "metadata": {
    "tags": []
   },
   "outputs": [
    {
     "name": "stdout",
     "output_type": "stream",
     "text": [
      "Hola Mundo - x:  5\n"
     ]
    }
   ],
   "source": [
    "print(\"Hola Mundo - x: \", x)"
   ]
  },
  {
   "cell_type": "code",
   "execution_count": 6,
   "id": "9e689026-ff73-4428-8478-7d2f06fb8090",
   "metadata": {
    "tags": []
   },
   "outputs": [
    {
     "name": "stdout",
     "output_type": "stream",
     "text": [
      "Hola Mundo - desde Jupyter\n"
     ]
    }
   ],
   "source": [
    "# %load ./pythoncode.py\n",
    "print(\"Hola Mundo - desde Jupyter\")\n",
    "x = 4\n"
   ]
  },
  {
   "cell_type": "code",
   "execution_count": 7,
   "id": "74793d04-0448-4046-a920-53d69448de35",
   "metadata": {
    "tags": []
   },
   "outputs": [
    {
     "name": "stdout",
     "output_type": "stream",
     "text": [
      "CPU times: user 17.7 ms, sys: 224 µs, total: 17.9 ms\n",
      "Wall time: 10.1 s\n"
     ]
    }
   ],
   "source": [
    "%%time\n",
    "import time\n",
    "for _ in range(1000):\n",
    "    time.sleep(0.01) # sleep for 0.01 seconds"
   ]
  },
  {
   "cell_type": "code",
   "execution_count": 8,
   "id": "3fa4e5e9-b6b8-4f50-9754-c444820b1792",
   "metadata": {
    "tags": []
   },
   "outputs": [
    {
     "name": "stdout",
     "output_type": "stream",
     "text": [
      "7.66 µs ± 647 ns per loop (mean ± std. dev. of 7 runs, 100,000 loops each)\n"
     ]
    }
   ],
   "source": [
    "# %%timeit Utiliza el módulo timeit de Python que ejecuta una declaración 100,000 veces (de forma predeterminada) \n",
    "# respondiendo con numpy tres veces más rápido.\n",
    "\n",
    "# numpy.random.normal(size=100) genera una matriz (se establece en 100,) con valores aleatorios extraídos \n",
    "# de una distribución normal estándar (media 0 y desviación estándar 1).\n",
    "\n",
    "import numpy\n",
    "%timeit numpy.random.normal(size=100) # Permite generar números aleatorios a partir de una distribución normal."
   ]
  },
  {
   "cell_type": "code",
   "execution_count": 9,
   "id": "54387642-575a-4895-ba6d-de1e49252ad3",
   "metadata": {
    "tags": []
   },
   "outputs": [
    {
     "data": {
      "image/png": "[encoded data removed]",
      "text/plain": [
       "<Figure size 640x480 with 1 Axes>"
      ]
     },
     "metadata": {},
     "output_type": "display_data"
    }
   ],
   "source": [
    "import numpy as np\n",
    "import matplotlib.pyplot as plt\n",
    "\n",
    "data = np.random.normal(size=100)\n",
    "plt.hist(data, bins=10)\n",
    "plt.show()\n"
   ]
  },
  {
   "cell_type": "code",
   "execution_count": 10,
   "id": "06293992-1ea5-4af4-b9bf-75031673a3ca",
   "metadata": {
    "tags": []
   },
   "outputs": [],
   "source": [
    "import time\n",
    "def factorial(n):\n",
    "    time.sleep(0.2) # sleep for 0.01 seconds\n",
    "    if (n==1) or (n==0):\n",
    "        return 1\n",
    "    else:\n",
    "        return n * factorial(n-1)"
   ]
  },
  {
   "cell_type": "code",
   "execution_count": 11,
   "id": "ec28b3a1-2cab-4f08-a7a6-e1a6bb6b5aa3",
   "metadata": {
    "tags": []
   },
   "outputs": [
    {
     "data": {
      "text/plain": [
       "120"
      ]
     },
     "execution_count": 11,
     "metadata": {},
     "output_type": "execute_result"
    }
   ],
   "source": [
    "factorial(5)"
   ]
  },
  {
   "cell_type": "code",
   "execution_count": 12,
   "id": "ca86b9db-026e-4e98-a8f1-efe9a5823c45",
   "metadata": {
    "tags": []
   },
   "outputs": [
    {
     "name": "stdout",
     "output_type": "stream",
     "text": [
      " "
     ]
    },
    {
     "data": {
      "text/plain": [
       "         13 function calls (9 primitive calls) in 1.001 seconds\n",
       "\n",
       "   Ordered by: internal time\n",
       "\n",
       "   ncalls  tottime  percall  cumtime  percall filename:lineno(function)\n",
       "        5    1.001    0.200    1.001    0.200 {built-in method time.sleep}\n",
       "      5/1    0.000    0.000    1.001    1.001 2462041427.py:2(factorial)\n",
       "        1    0.000    0.000    1.001    1.001 {built-in method builtins.exec}\n",
       "        1    0.000    0.000    1.001    1.001 <string>:1(<module>)\n",
       "        1    0.000    0.000    0.000    0.000 {method 'disable' of '_lsprof.Profiler' objects}"
      ]
     },
     "metadata": {},
     "output_type": "display_data"
    }
   ],
   "source": [
    "#Muestra una tabla ordenada que muestra la cantidad de veces que se llamó a cada función interna dentro de la declaración, el tiempo que tomó cada llamada y el tiempo acumulado de todas las ejecuciones de la función.\n",
    "%prun factorial(5)"
   ]
  },
  {
   "cell_type": "code",
   "execution_count": 13,
   "id": "f83ecc84-413a-4448-92f3-3964c5f5f5ea",
   "metadata": {
    "tags": []
   },
   "outputs": [
    {
     "data": {
      "image/png": "[encoded data removed]",
      "text/plain": [
       "<Figure size 640x480 with 1 Axes>"
      ]
     },
     "metadata": {},
     "output_type": "display_data"
    },
    {
     "data": {
      "image/png": "[encoded data removed]",
      "text/plain": [
       "<Figure size 640x480 with 1 Axes>"
      ]
     },
     "metadata": {
      "image/png": {
       "height": 428,
       "width": 547
      }
     },
     "output_type": "display_data"
    }
   ],
   "source": [
    "# pip install matplotlib\n",
    "# %config InlineBackend.figure_format ='retina'\n",
    "# dará una salida gráfica de doble resolución para pantallas Retina, como las Macbooks más recientes. Nota: el siguiente ejemplo no se representará en pantallas que no sean retina\n",
    "import matplotlib.pyplot as plt\n",
    "\n",
    "x = range(1001)\n",
    "y = [i ** 2 for i in x]\n",
    "plt.plot(x,y)\n",
    "plt.show();\n",
    "\n",
    "%config InlineBackend.figure_format ='retina'\n",
    "plt.plot(x,y)\n",
    "plt.show();"
   ]
  },
  {
   "cell_type": "markdown",
   "id": "e20301db-4369-41e6-9dc9-d51128b5579c",
   "metadata": {},
   "source": [
    "Para listar el contenido de una carpeta o directorio, los usuarios **windows** favor de utilizar el comando \"**dir**\" y los usuarios **MacOS y linux** usar el comando \"**ls**\""
   ]
  },
  {
   "cell_type": "code",
   "execution_count": 14,
   "id": "2ed90593-3a83-4925-87e5-bf113b4c7a2f",
   "metadata": {},
   "outputs": [
    {
     "name": "stdout",
     "output_type": "stream",
     "text": [
      "prueba.py  pythoncode.py\n"
     ]
    }
   ],
   "source": [
    "!dir *.py"
   ]
  },
  {
   "cell_type": "code",
   "execution_count": 15,
   "id": "5689438d-b84d-40d3-a02b-55c1316d7e01",
   "metadata": {
    "tags": []
   },
   "outputs": [
    {
     "name": "stdout",
     "output_type": "stream",
     "text": [
      "prueba.py  pythoncode.py\n"
     ]
    }
   ],
   "source": [
    "!ls *.py"
   ]
  },
  {
   "cell_type": "code",
   "execution_count": 16,
   "id": "feeedbb9-84be-4d9d-85a8-cdac65272351",
   "metadata": {
    "tags": []
   },
   "outputs": [
    {
     "name": "stdout",
     "output_type": "stream",
     "text": [
      "Curso2_archivo_1_Jun23.ipynb  día1.ipynb  día2.ipynb  Untitled.ipynb\n"
     ]
    }
   ],
   "source": [
    "!ls *.ipynb"
   ]
  },
  {
   "cell_type": "code",
   "execution_count": 17,
   "id": "d8eecf2b-15e0-4e2e-ab1c-5f3c200265e5",
   "metadata": {
    "tags": []
   },
   "outputs": [
    {
     "name": "stdout",
     "output_type": "stream",
     "text": [
      "/bin/bash: línea 1: findstr: orden no encontrada\n",
      "ERROR: Pipe to stdout was broken\n",
      "Exception ignored in: <_io.TextIOWrapper name='<stdout>' mode='w' encoding='utf-8'>\n",
      "BrokenPipeError: [Errno 32] Tubería rota\n"
     ]
    }
   ],
   "source": [
    "# SO Windows - usar findstr\n",
    "!pip list | findstr urllib3"
   ]
  },
  {
   "cell_type": "code",
   "execution_count": 18,
   "id": "09654e79-22c8-4e27-9df6-30a25ff9e0ac",
   "metadata": {
    "tags": []
   },
   "outputs": [
    {
     "name": "stdout",
     "output_type": "stream",
     "text": [
      "matplotlib                         3.6.2\n",
      "matplotlib-inline                  0.1.6\n"
     ]
    }
   ],
   "source": [
    "# SO Linux/MacOS - usar grep\n",
    "!pip list | grep matplotlib"
   ]
  },
  {
   "cell_type": "markdown",
   "id": "706bed7d-3cbb-41c8-a57f-11bfe716aa4d",
   "metadata": {
    "tags": []
   },
   "source": [
    "**LaTeX la fórmula puede ir encerrada entre 1 o 2 signos de pesos**  \n",
    "$P(A loamid B) = \\frac{P(B \\mid A)P(A)}{P(B)}$\n",
    "$$P(A \\mid B) = \\frac{P(B \\mid A)P(A)}{P(B)}$$"
   ]
  },
  {
   "cell_type": "code",
   "execution_count": 19,
   "id": "4dea4dd9-c4ba-4555-8dc9-dc3959836c2d",
   "metadata": {
    "tags": []
   },
   "outputs": [
    {
     "data": {
      "text/html": [
       "<strong>Hola HTML desde Jupyter</strong>\n",
       "<table>\n",
       "<tr><td>Celda a</td><td>Celda b</td></tr>\n",
       "<tr><td>Celda c</td><td>Celda d</td></tr>\n",
       "</table>\n"
      ],
      "text/plain": [
       "<IPython.core.display.HTML object>"
      ]
     },
     "metadata": {},
     "output_type": "display_data"
    }
   ],
   "source": [
    "%%HTML\n",
    "<strong>Hola HTML desde Jupyter</strong>\n",
    "<table>\n",
    "<tr><td>Celda a</td><td>Celda b</td></tr>\n",
    "<tr><td>Celda c</td><td>Celda d</td></tr>\n",
    "</table>"
   ]
  },
  {
   "cell_type": "code",
   "execution_count": 20,
   "id": "94ec516a-1e0f-481a-981a-26d5f18ac47b",
   "metadata": {
    "tags": []
   },
   "outputs": [
    {
     "name": "stdout",
     "output_type": "stream",
     "text": [
      "i is 1\n",
      "i is 2\n",
      "i is 3\n",
      "i is 4\n",
      "i is 5\n"
     ]
    }
   ],
   "source": [
    "%%bash\n",
    "for i in {1..5}\n",
    "do echo \"i is $i\"\n",
    "done"
   ]
  },
  {
   "cell_type": "markdown",
   "id": "d437b95e-9b66-4b95-bade-76ecf8b49831",
   "metadata": {
    "jp-MarkdownHeadingCollapsed": true,
    "tags": []
   },
   "source": [
    "---\n",
    "<a id='autoevaluacion'></a>\n",
    "\n",
    "**Favor de realizar la AUTOEVALUACIÓN**  \n",
    "[Ingreso aquí](https://cat.tecnm.mx/)  \n",
    "![texto alternativo](https://cat.tecnm.mx/plantillas/tecnm/images/logos/TecNM_logo.png)  \n",
    "![texto alternativo](TecNM_logo.png)\n",
    "\n",
    "---"
   ]
  },
  {
   "cell_type": "markdown",
   "id": "e64c3533-c5a4-415c-8e34-212ba35a72b5",
   "metadata": {
    "tags": []
   },
   "source": [
    "### Markdown\n",
    "Un ejemplo de editor es:  \n",
    "+ ghostwriter \n",
    "\n",
    "Markdown es compatible con:  \n",
    "* Windows  \n",
    "* Linux  \n",
    "    - Distribuciones: \n",
    "    - Fedora\n",
    "    - Debian\n",
    "    - Ubuntu\n",
    "    - Linux Mint\n",
    "    - OpenSUSE\n",
    "    - Slackware\n",
    "    - Arch\n",
    "    - entre otros\n",
    "* MAC"
   ]
  },
  {
   "cell_type": "markdown",
   "id": "d4fa857e-4a7d-4e47-ae33-9181f4b2be9c",
   "metadata": {},
   "source": [
    "### Modo edición y modo comando\n",
    "El **modo edición** sirve para modificar el contenido de la celda.  \n",
    "El **modo comando** sirve para realizar modificaciones al funcionamiento del entorno de desarrollo *Jupyter*"
   ]
  },
  {
   "cell_type": "markdown",
   "id": "9c3310c8-8c37-4bb0-b908-dcf6c7307963",
   "metadata": {
    "tags": []
   },
   "source": [
    "~~Tachado~~  \n",
    "***Negrita y cursiva***  \n",
    "<img src=\"TecNM_logo.png\" width=\"20%\" height=\"20%\"></img>"
   ]
  },
  {
   "cell_type": "code",
   "execution_count": 21,
   "id": "03ea6450-4906-4f78-a526-2f926915fe78",
   "metadata": {
    "tags": []
   },
   "outputs": [
    {
     "name": "stdout",
     "output_type": "stream",
     "text": [
      "Hola Mundo Jupyter\n",
      "[0, 2, 4, 6, 8, 10]\n"
     ]
    }
   ],
   "source": [
    "print(\"Hola Mundo Jupyter\")\n",
    "print(list(range(0, 11, 2)))"
   ]
  },
  {
   "cell_type": "code",
   "execution_count": 22,
   "id": "835a9e91-5f37-4d14-aaab-a363b7d4f92b",
   "metadata": {
    "tags": []
   },
   "outputs": [
    {
     "data": {
      "image/jpeg": "[encoded data removed]",
      "text/html": [
       "\n",
       "        <iframe\n",
       "            width=\"400\"\n",
       "            height=\"300\"\n",
       "            src=\"https://www.youtube.com/embed/q2lCm2KAz3w\"\n",
       "            frameborder=\"0\"\n",
       "            allowfullscreen\n",
       "            \n",
       "        ></iframe>\n",
       "        "
      ],
      "text/plain": [
       "<IPython.lib.display.YouTubeVideo at 0x7fae278c8ee0>"
      ]
     },
     "metadata": {},
     "output_type": "display_data"
    }
   ],
   "source": []
  }
 ],
 "metadata": {
  "kernelspec": {
   "display_name": "Python 3 (ipykernel)",
   "language": "python",
   "name": "python3"
  },
  "language_info": {
   "codemirror_mode": {
    "name": "ipython",
    "version": 3
   },
   "file_extension": ".py",
   "mimetype": "text/x-python",
   "name": "python",
   "nbconvert_exporter": "python",
   "pygments_lexer": "ipython3",
   "version": "3.10.6"
  }
 },
 "nbformat": 4,
 "nbformat_minor": 5
}
