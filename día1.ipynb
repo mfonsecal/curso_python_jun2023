{
 "cells": [
  {
   "cell_type": "markdown",
   "id": "04ac2f47-8e44-412c-a166-ca4157d1d624",
   "metadata": {
    "tags": []
   },
   "source": [
    "# Curso intersemestral EJ23: Introducción al procesamiento de datos con Python avanzado\n",
    "del 19 al 23 de junio 2023\n",
    "\n",
    "**Instructores:**  \n",
    "- Mario Francisco Fonseca Lozada\n",
    "- Carlos Hernández Salas"
   ]
  },
  {
   "cell_type": "markdown",
   "id": "3b56289e-4018-44da-894c-3517b8f941ab",
   "metadata": {
    "tags": []
   },
   "source": [
    "## Introducción a Jupyter"
   ]
  },
  {
   "cell_type": "code",
   "execution_count": 1,
   "id": "b26180f0-9854-4080-a918-d7504b621968",
   "metadata": {
    "tags": []
   },
   "outputs": [
    {
     "name": "stdout",
     "output_type": "stream",
     "text": [
      "Hola Mundo - desde Jupyter\n"
     ]
    }
   ],
   "source": [
    "print(\"Hola Mundo - desde Jupyter\")\n",
    "x = 5"
   ]
  },
  {
   "cell_type": "code",
   "execution_count": 2,
   "id": "1c190b3b-b184-4f82-9ee2-94692969a4bd",
   "metadata": {
    "tags": []
   },
   "outputs": [
    {
     "name": "stdout",
     "output_type": "stream",
     "text": [
      "Hola Mundo - x:  5\n"
     ]
    }
   ],
   "source": [
    "print(\"Hola Mundo - x: \", x)"
   ]
  },
  {
   "cell_type": "markdown",
   "id": "d437b95e-9b66-4b95-bade-76ecf8b49831",
   "metadata": {
    "jp-MarkdownHeadingCollapsed": true,
    "tags": []
   },
   "source": [
    "---\n",
    "<a id='autoevaluacion'></a>\n",
    "\n",
    "**Favor de realizar la AUTOEVALUACIÓN**  \n",
    "[Ingreso aquí](https://cat.tecnm.mx/)  \n",
    "![texto alternativo](https://cat.tecnm.mx/plantillas/tecnm/images/logos/TecNM_logo.png)  \n",
    "![texto alternativo](TecNM_logo.png)\n",
    "\n",
    "---"
   ]
  },
  {
   "cell_type": "markdown",
   "id": "e64c3533-c5a4-415c-8e34-212ba35a72b5",
   "metadata": {
    "tags": []
   },
   "source": [
    "### Markdown\n",
    "Un ejemplo de editor es:  \n",
    "+ ghostwriter \n",
    "\n",
    "Markdown es compatible con:  \n",
    "* Windows    \n",
    "* Linux    \n",
    "    - Distribuciones:  \n",
    "    - Fedora  \n",
    "    - Debian  \n",
    "    - Ubuntu  \n",
    "    - Linux Mint  \n",
    "    - OpenSUSE  \n",
    "    - Slackware  \n",
    "    - Arch  \n",
    "    - entre otros  \n",
    "* MAC  "
   ]
  },
  {
   "cell_type": "markdown",
   "id": "d4fa857e-4a7d-4e47-ae33-9181f4b2be9c",
   "metadata": {},
   "source": [
    "### Modo edición y modo comando\n",
    "El **modo edición** sirve para modificar el contenido de la celda.  \n",
    "El **modo comando** sirve para realizar modificaciones al funcionamiento del entorno de desarrollo *Jupyter*\n",
    "\n"
   ]
  },
  {
   "cell_type": "code",
   "execution_count": 3,
   "id": "03ea6450-4906-4f78-a526-2f926915fe78",
   "metadata": {
    "tags": []
   },
   "outputs": [
    {
     "name": "stdout",
     "output_type": "stream",
     "text": [
      "Hola Mundo Jupyter\n"
     ]
    }
   ],
   "source": [
    "print(\"Hola Mundo Jupyter\")"
   ]
  },
  {
   "cell_type": "markdown",
   "id": "a3969ed1-2b22-4599-89a2-af6fa2fda288",
   "metadata": {},
   "source": [
    "[No olvides autoevaluarte](#autoevaluacion)"
   ]
  }
 ],
 "metadata": {
  "kernelspec": {
   "display_name": "Python 3 (ipykernel)",
   "language": "python",
   "name": "python3"
  },
  "language_info": {
   "codemirror_mode": {
    "name": "ipython",
    "version": 3
   },
   "file_extension": ".py",
   "mimetype": "text/x-python",
   "name": "python",
   "nbconvert_exporter": "python",
   "pygments_lexer": "ipython3",
   "version": "3.10.6"
  }
 },
 "nbformat": 4,
 "nbformat_minor": 5
}
